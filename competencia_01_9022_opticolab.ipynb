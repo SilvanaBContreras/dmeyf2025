{
  "cells": [
    {
      "cell_type": "code",
      "source": [],
      "metadata": {
        "id": "xlLHndrWs_Ho"
      },
      "execution_count": null,
      "outputs": []
    },
    {
      "cell_type": "markdown",
      "metadata": {
        "id": "0cEmzeUKFkPh"
      },
      "source": [
        "# optimizacion fe1 muchos colab"
      ]
    },
    {
      "cell_type": "markdown",
      "metadata": {
        "id": "PX0qg_c0yqob"
      },
      "source": [
        "#### 2.1  Seteo del ambiente en Google Colab"
      ]
    },
    {
      "cell_type": "markdown",
      "metadata": {
        "id": "NGY7H9xza7Zr"
      },
      "source": [
        "Esta parte se debe correr con el runtime en Python3\n",
        "<br>Ir al menu, Runtime -> Change Runtime Type -> Runtime type ->  **Python 3**"
      ]
    },
    {
      "cell_type": "markdown",
      "metadata": {
        "id": "7PupIBNba7Zr"
      },
      "source": [
        "Conectar la virtual machine donde esta corriendo Google Colab con el  Google Drive, para poder tener persistencia de archivos"
      ]
    },
    {
      "cell_type": "code",
      "execution_count": 1,
      "metadata": {
        "colab": {
          "base_uri": "https://localhost:8080/"
        },
        "id": "lcIb5q5H_Mvc",
        "outputId": "1d41ca73-4ed6-4473-87c0-1f2d28260443"
      },
      "outputs": [
        {
          "output_type": "stream",
          "name": "stdout",
          "text": [
            "Mounted at /content/.drive\n"
          ]
        }
      ],
      "source": [
        "# primero establecer el Runtime de Python 3\n",
        "from google.colab import drive\n",
        "drive.mount('/content/.drive')"
      ]
    },
    {
      "cell_type": "markdown",
      "metadata": {
        "id": "JYC_F-wla7Zs"
      },
      "source": [
        "Para correr la siguiente celda es fundamental en Arranque en Frio haber copiado el archivo kaggle.json al Google Drive, en la carpeta indicada en el instructivo\n",
        "\n",
        "<br>los siguientes comando estan en shell script de Linux\n",
        "*   Crear las carpetas en el Google Drive\n",
        "*   \"instalar\" el archivo kaggle.json desde el Google Drive a la virtual machine para que pueda ser utilizado por la libreria  kaggle de Python\n",
        "*   Bajar el  **dataset_pequeno**  al  Google Drive  y tambien al disco local de la virtual machine que esta corriendo Google Colab\n",
        "\n"
      ]
    },
    {
      "cell_type": "code",
      "execution_count": 2,
      "metadata": {
        "colab": {
          "base_uri": "https://localhost:8080/"
        },
        "id": "XWLelftXa7Zt",
        "outputId": "bbf04543-7e14-46bf-9a93-062bc76e0c1b"
      },
      "outputs": [
        {
          "output_type": "execute_result",
          "data": {
            "text/plain": []
          },
          "metadata": {},
          "execution_count": 2
        }
      ],
      "source": [
        "%%shell\n",
        "\n",
        "mkdir -p \"/content/.drive/My Drive/dmeyf\"\n",
        "mkdir -p \"/content/buckets\"\n",
        "ln -s \"/content/.drive/My Drive/dmeyf\" /content/buckets/b1\n",
        "\n",
        "\n",
        "mkdir -p /content/buckets/b1/exp\n",
        "mkdir -p /content/buckets/b1/datasets\n",
        "mkdir -p /content/datasets\n",
        "\n",
        "\n",
        "\n",
        "archivo_origen=\"https://storage.googleapis.com/open-courses/dmeyf2025-e4a2/competencia_01_crudo.csv\"\n",
        "archivo_destino=\"/content/datasets/competencia_01_crudo.csv\"\n",
        "archivo_destino_bucket=\"/content/buckets/b1/datasets/competencia_01_crudo.csv\"\n",
        "\n",
        "if ! test -f $archivo_destino_bucket; then\n",
        "  wget  $archivo_origen  -O $archivo_destino_bucket\n",
        "fi\n",
        "\n",
        "\n",
        "if ! test -f $archivo_destino; then\n",
        "  cp  $archivo_destino_bucket  $archivo_destino\n",
        "fi\n"
      ]
    },
    {
      "cell_type": "markdown",
      "source": [
        "# pasar a R"
      ],
      "metadata": {
        "id": "Qwq9VYqyOjLF"
      }
    },
    {
      "cell_type": "code",
      "execution_count": null,
      "metadata": {
        "colab": {
          "base_uri": "https://localhost:8080/",
          "height": 34
        },
        "id": "ZW2ig6Ox182w",
        "outputId": "e50eeeee-a670-4ff2-a2b6-afb8b9d9d192"
      },
      "outputs": [
        {
          "data": {
            "text/html": [
              "'/content/.drive/MyDrive/dmeyf/exp/exp4951'"
            ],
            "text/latex": "'/content/.drive/MyDrive/dmeyf/exp/exp4951'",
            "text/markdown": "'/content/.drive/MyDrive/dmeyf/exp/exp4951'",
            "text/plain": [
              "[1] \"/content/.drive/MyDrive/dmeyf/exp/exp4951\""
            ]
          },
          "metadata": {},
          "output_type": "display_data"
        }
      ],
      "source": [
        "getwd()"
      ]
    },
    {
      "cell_type": "markdown",
      "metadata": {
        "id": "oSKhZRToy2F7"
      },
      "source": [
        "# 2.2 Optimizacion Hiperparámetros"
      ]
    },
    {
      "cell_type": "markdown",
      "metadata": {
        "id": "zy8YTZfESxeJ"
      },
      "source": [
        "limpio el ambiente de R"
      ]
    },
    {
      "cell_type": "code",
      "execution_count": null,
      "metadata": {
        "colab": {
          "base_uri": "https://localhost:8080/",
          "height": 34
        },
        "id": "gBq__iAdQliq",
        "outputId": "a2b4e22b-624b-4dc6-d6b4-a5de64a825bf"
      },
      "outputs": [
        {
          "output_type": "display_data",
          "data": {
            "text/html": [
              "'Fri Oct 03 09:21:39 PM 2025'"
            ],
            "text/markdown": "'Fri Oct 03 09:21:39 PM 2025'",
            "text/latex": "'Fri Oct 03 09:21:39 PM 2025'",
            "text/plain": [
              "[1] \"Fri Oct 03 09:21:39 PM 2025\""
            ]
          },
          "metadata": {}
        }
      ],
      "source": [
        "format(Sys.time(), \"%a %b %d %X %Y\")"
      ]
    },
    {
      "cell_type": "code",
      "execution_count": null,
      "metadata": {
        "colab": {
          "base_uri": "https://localhost:8080/",
          "height": 129
        },
        "id": "7rdVrBojS1IV",
        "outputId": "efb1218a-9766-43e3-bcb5-70e83f8c87ba"
      },
      "outputs": [
        {
          "output_type": "display_data",
          "data": {
            "text/html": [
              "<table class=\"dataframe\">\n",
              "<caption>A matrix: 2 × 6 of type dbl</caption>\n",
              "<thead>\n",
              "\t<tr><th></th><th scope=col>used</th><th scope=col>(Mb)</th><th scope=col>gc trigger</th><th scope=col>(Mb)</th><th scope=col>max used</th><th scope=col>(Mb)</th></tr>\n",
              "</thead>\n",
              "<tbody>\n",
              "\t<tr><th scope=row>Ncells</th><td> 660391</td><td>35.3</td><td>1454451</td><td>77.7</td><td>1454451</td><td>77.7</td></tr>\n",
              "\t<tr><th scope=row>Vcells</th><td>1226658</td><td> 9.4</td><td>8388608</td><td>64.0</td><td>1975127</td><td>15.1</td></tr>\n",
              "</tbody>\n",
              "</table>\n"
            ],
            "text/markdown": "\nA matrix: 2 × 6 of type dbl\n\n| <!--/--> | used | (Mb) | gc trigger | (Mb) | max used | (Mb) |\n|---|---|---|---|---|---|---|\n| Ncells |  660391 | 35.3 | 1454451 | 77.7 | 1454451 | 77.7 |\n| Vcells | 1226658 |  9.4 | 8388608 | 64.0 | 1975127 | 15.1 |\n\n",
            "text/latex": "A matrix: 2 × 6 of type dbl\n\\begin{tabular}{r|llllll}\n  & used & (Mb) & gc trigger & (Mb) & max used & (Mb)\\\\\n\\hline\n\tNcells &  660391 & 35.3 & 1454451 & 77.7 & 1454451 & 77.7\\\\\n\tVcells & 1226658 &  9.4 & 8388608 & 64.0 & 1975127 & 15.1\\\\\n\\end{tabular}\n",
            "text/plain": [
              "       used    (Mb) gc trigger (Mb) max used (Mb)\n",
              "Ncells  660391 35.3 1454451    77.7 1454451  77.7\n",
              "Vcells 1226658  9.4 8388608    64.0 1975127  15.1"
            ]
          },
          "metadata": {}
        }
      ],
      "source": [
        "# limpio la memoria\n",
        "rm(list=ls(all.names=TRUE)) # remove all objects\n",
        "gc(full=TRUE, verbose=FALSE) # garbage collection"
      ]
    },
    {
      "cell_type": "markdown",
      "metadata": {
        "id": "kuPfQ7ksjwW3"
      },
      "source": [
        "### 2.2.2 Carga de Librerias"
      ]
    },
    {
      "cell_type": "markdown",
      "metadata": {
        "id": "B8BaSFlGfvma"
      },
      "source": [
        "Esta parte lleva varios minutos la primera vez en Google Colab"
      ]
    },
    {
      "cell_type": "code",
      "execution_count": null,
      "metadata": {
        "colab": {
          "base_uri": "https://localhost:8080/"
        },
        "id": "lVyxLaJ1j1J_",
        "outputId": "81cbd24b-28f7-4d2a-a8de-1f817e89f236"
      },
      "outputs": [
        {
          "output_type": "stream",
          "name": "stderr",
          "text": [
            "Loading required package: data.table\n",
            "\n",
            "Loading required package: parallel\n",
            "\n",
            "Loading required package: R.utils\n",
            "\n",
            "Warning message in library(package, lib.loc = lib.loc, character.only = TRUE, logical.return = TRUE, :\n",
            "“there is no package called ‘R.utils’”\n",
            "Installing package into ‘/usr/local/lib/R/site-library’\n",
            "(as ‘lib’ is unspecified)\n",
            "\n",
            "also installing the dependencies ‘R.oo’, ‘R.methodsS3’\n",
            "\n",
            "\n",
            "Loading required package: R.utils\n",
            "\n",
            "Loading required package: R.oo\n",
            "\n",
            "Loading required package: R.methodsS3\n",
            "\n",
            "R.methodsS3 v1.8.2 (2022-06-13 22:00:14 UTC) successfully loaded. See ?R.methodsS3 for help.\n",
            "\n",
            "R.oo v1.27.1 (2025-05-02 21:00:05 UTC) successfully loaded. See ?R.oo for help.\n",
            "\n",
            "\n",
            "Attaching package: ‘R.oo’\n",
            "\n",
            "\n",
            "The following object is masked from ‘package:R.methodsS3’:\n",
            "\n",
            "    throw\n",
            "\n",
            "\n",
            "The following objects are masked from ‘package:methods’:\n",
            "\n",
            "    getClasses, getMethods\n",
            "\n",
            "\n",
            "The following objects are masked from ‘package:base’:\n",
            "\n",
            "    attach, detach, load, save\n",
            "\n",
            "\n",
            "R.utils v2.13.0 (2025-02-24 21:20:02 UTC) successfully loaded. See ?R.utils for help.\n",
            "\n",
            "\n",
            "Attaching package: ‘R.utils’\n",
            "\n",
            "\n",
            "The following object is masked from ‘package:utils’:\n",
            "\n",
            "    timestamp\n",
            "\n",
            "\n",
            "The following objects are masked from ‘package:base’:\n",
            "\n",
            "    cat, commandArgs, getOption, isOpen, nullfile, parse, use, warnings\n",
            "\n",
            "\n",
            "Loading required package: primes\n",
            "\n",
            "Warning message in library(package, lib.loc = lib.loc, character.only = TRUE, logical.return = TRUE, :\n",
            "“there is no package called ‘primes’”\n",
            "Installing package into ‘/usr/local/lib/R/site-library’\n",
            "(as ‘lib’ is unspecified)\n",
            "\n",
            "Loading required package: primes\n",
            "\n",
            "Loading required package: rlist\n",
            "\n",
            "Warning message in library(package, lib.loc = lib.loc, character.only = TRUE, logical.return = TRUE, :\n",
            "“there is no package called ‘rlist’”\n",
            "Installing package into ‘/usr/local/lib/R/site-library’\n",
            "(as ‘lib’ is unspecified)\n",
            "\n",
            "also installing the dependency ‘XML’\n",
            "\n",
            "\n",
            "Loading required package: rlist\n",
            "\n",
            "Loading required package: yaml\n",
            "\n",
            "Loading required package: lightgbm\n",
            "\n",
            "Warning message in library(package, lib.loc = lib.loc, character.only = TRUE, logical.return = TRUE, :\n",
            "“there is no package called ‘lightgbm’”\n",
            "Installing package into ‘/usr/local/lib/R/site-library’\n",
            "(as ‘lib’ is unspecified)\n",
            "\n",
            "Loading required package: lightgbm\n",
            "\n",
            "Loading required package: DiceKriging\n",
            "\n",
            "Warning message in library(package, lib.loc = lib.loc, character.only = TRUE, logical.return = TRUE, :\n",
            "“there is no package called ‘DiceKriging’”\n",
            "Installing package into ‘/usr/local/lib/R/site-library’\n",
            "(as ‘lib’ is unspecified)\n",
            "\n",
            "Loading required package: DiceKriging\n",
            "\n",
            "Loading required package: mlrMBO\n",
            "\n",
            "Warning message in library(package, lib.loc = lib.loc, character.only = TRUE, logical.return = TRUE, :\n",
            "“there is no package called ‘mlrMBO’”\n",
            "Installing package into ‘/usr/local/lib/R/site-library’\n",
            "(as ‘lib’ is unspecified)\n",
            "\n",
            "also installing the dependencies ‘fastmatch’, ‘RcppArmadillo’, ‘mlr’, ‘ParamHelpers’, ‘smoof’, ‘BBmisc’, ‘checkmate’, ‘lhs’, ‘parallelMap’\n",
            "\n",
            "\n"
          ]
        }
      ],
      "source": [
        "# cargo las librerias que necesito\n",
        "require(\"data.table\")\n",
        "require(\"parallel\")\n",
        "\n",
        "if(!require(\"R.utils\")) install.packages(\"R.utils\")\n",
        "require(\"R.utils\")\n",
        "\n",
        "if( !require(\"primes\") ) install.packages(\"primes\")\n",
        "require(\"primes\")\n",
        "\n",
        "if( !require(\"utils\") ) install.packages(\"utils\")\n",
        "require(\"utils\")\n",
        "\n",
        "if( !require(\"rlist\") ) install.packages(\"rlist\")\n",
        "require(\"rlist\")\n",
        "\n",
        "if( !require(\"yaml\")) install.packages(\"yaml\")\n",
        "require(\"yaml\")\n",
        "\n",
        "if( !require(\"lightgbm\") ) install.packages(\"lightgbm\")\n",
        "require(\"lightgbm\")\n",
        "\n",
        "if( !require(\"DiceKriging\") ) install.packages(\"DiceKriging\")\n",
        "require(\"DiceKriging\")\n",
        "\n",
        "if( !require(\"mlrMBO\") ) install.packages(\"mlrMBO\")\n",
        "require(\"mlrMBO\")"
      ]
    },
    {
      "cell_type": "markdown",
      "metadata": {
        "id": "Iz-6Qt6BUaA3"
      },
      "source": [
        "### 2.2.3 Definicion de Parametros"
      ]
    },
    {
      "cell_type": "markdown",
      "metadata": {
        "id": "cOdlKd7lUm2I"
      },
      "source": [
        "aqui debe cargar SU semilla primigenia\n",
        "<br>recuerde cambiar el numero de experimento en cada corrida nueva"
      ]
    },
    {
      "cell_type": "markdown",
      "metadata": {
        "id": "bGqSjVcwAxfi"
      },
      "source": [
        "# nro EXP\n"
      ]
    },
    {
      "cell_type": "code",
      "execution_count": null,
      "metadata": {
        "id": "ASYkebOu2mF6"
      },
      "outputs": [],
      "source": [
        "PARAM <- list()\n",
        "PARAM$experimento <- 9022\n",
        "\n",
        "PARAM$semilla_primigenia <- 999199\n",
        "PARAM$semillas <- c(999199, 999499, 999599, 999959, 999979\n",
        "                    #, 104729, 523987, 7919,1299709, 2097593\n",
        ")\n"
      ]
    },
    {
      "cell_type": "code",
      "execution_count": null,
      "metadata": {
        "id": "ezOhQdbA293o"
      },
      "outputs": [],
      "source": [
        "# # training y future\n",
        "# PARAM$train <- c(202102)\n",
        "# PARAM$train_final <- c(202102)\n",
        "# PARAM$future <- c(202104)\n",
        "# PARAM$semilla_kaggle <- 314159\n",
        "# PARAM$cortes <- seq(6000, 19000, by= 500)"
      ]
    },
    {
      "cell_type": "code",
      "execution_count": null,
      "metadata": {
        "id": "M5Qx2znH-1Fj"
      },
      "outputs": [],
      "source": [
        "# training y future\n",
        "PARAM$train <- c(202103)\n",
        "PARAM$train_final <- c(202101, 202102, 202103)\n",
        "PARAM$future <- c(202106)\n",
        "PARAM$false_future <- c(202104)\n",
        "PARAM$semilla_kaggle <- 314159\n",
        "PARAM$cortes <- seq(8000, 16000, by= 500)"
      ]
    },
    {
      "cell_type": "code",
      "execution_count": null,
      "metadata": {
        "id": "jtB0Lub42rHO"
      },
      "outputs": [],
      "source": [
        "# un undersampling de 0.1  toma solo el 10% de los CONTINUA\n",
        "# undersampling de 1.0  implica tomar TODOS los datos\n",
        "\n",
        "PARAM$trainingstrategy$undersampling <- 0.2"
      ]
    },
    {
      "cell_type": "code",
      "execution_count": null,
      "metadata": {
        "id": "q5Rd3pnbzSiG"
      },
      "outputs": [],
      "source": [
        "PARAM$hyperparametertuning$iteraciones <- 50 # iteraciones bayesianas"
      ]
    },
    {
      "cell_type": "markdown",
      "metadata": {
        "id": "ZztuWlCWCqbj"
      },
      "source": [
        "# HIPERPARAMETROS"
      ]
    },
    {
      "cell_type": "code",
      "execution_count": null,
      "metadata": {
        "id": "OFxm-xiNUOJX"
      },
      "outputs": [],
      "source": [
        "# Parametros LightGBM\n",
        "\n",
        "PARAM$hyperparametertuning$xval_folds <- 5\n",
        "\n",
        "# parametros fijos del LightGBM que se pisaran con la parte variable de la BO\n",
        "PARAM$lgbm$param_fijos <-  list(\n",
        "  boosting= \"gbdt\", # puede ir  dart  , ni pruebe random_forest\n",
        "  # boosting= \"dart\", #ATENCION MODIFIQUE\n",
        "  objective= \"binary\",\n",
        "  metric= \"auc\",\n",
        "  first_metric_only= FALSE,\n",
        "  boost_from_average= TRUE,\n",
        "  feature_pre_filter= FALSE,\n",
        "  force_row_wise= TRUE, # para reducir warnings\n",
        "  verbosity= -100,\n",
        "\n",
        "  seed= PARAM$semilla_primigenia,\n",
        "\n",
        "  max_depth= -1L, # -1 significa no limitar,  por ahora lo dejo fijo\n",
        "  min_gain_to_split= 0, # min_gain_to_split >= 0\n",
        "  min_sum_hessian_in_leaf= 0.001, #  min_sum_hessian_in_leaf >= 0.0\n",
        "  lambda_l1= 0.0, # lambda_l1 >= 0.0\n",
        "  lambda_l2= 0.0, # lambda_l2 >= 0.0\n",
        "  max_bin= 31L, # lo debo dejar fijo, no participa de la BO\n",
        "\n",
        "  bagging_fraction= 1.0, # 0.0 < bagging_fraction <= 1.0\n",
        "  pos_bagging_fraction= 1.0, # 0.0 < pos_bagging_fraction <= 1.0\n",
        "  neg_bagging_fraction= 1.0, # 0.0 < neg_bagging_fraction <= 1.0\n",
        "  is_unbalance= FALSE, #\n",
        "  scale_pos_weight= 1.0, # scale_pos_weight > 0.0\n",
        "\n",
        "  drop_rate= 0.1, # 0.0 < neg_bagging_fraction <= 1.0\n",
        "  max_drop= 50, # <=0 means no limit\n",
        "  skip_drop= 0.5, # 0.0 <= skip_drop <= 1.0\n",
        "\n",
        "  extra_trees= FALSE,\n",
        "\n",
        "  num_iterations= 1200,\n",
        "  learning_rate= 0.02,\n",
        "  feature_fraction= 0.5,\n",
        "  num_leaves= 750,\n",
        "  min_data_in_leaf= 5000\n",
        ")\n"
      ]
    },
    {
      "cell_type": "markdown",
      "metadata": {
        "id": "D5Yj-JV4yvOt"
      },
      "source": [
        "Aqui se definen los hiperparámetros de LightGBM que participan de la Bayesian Optimization\n",
        "<br> si es un numero entero debe ir  makeIntegerParam\n",
        "<br> si es un numero real (con decimales) debe ir  makeNumericParam\n",
        "<br> es muy importante leer cuales son un lower y upper  permitidos y ademas razonables"
      ]
    },
    {
      "cell_type": "code",
      "execution_count": null,
      "metadata": {
        "id": "jENpR26ZyuS8"
      },
      "outputs": [],
      "source": [
        "# # Aqui se cargan los bordes de los hiperparametros de la BO\n",
        "# # INICIAL EXP HT4940\n",
        "\n",
        "# PARAM$hyperparametertuning$hs <- makeParamSet(\n",
        "#   makeIntegerParam(\"num_iterations\", lower= 8L, upper= 2048L),\n",
        "#   makeNumericParam(\"learning_rate\", lower= 0.01, upper= 0.3),\n",
        "#   makeNumericParam(\"feature_fraction\", lower= 0.1, upper= 1.0),\n",
        "#   makeIntegerParam(\"num_leaves\", lower= 8L, upper= 2048L),\n",
        "#   makeIntegerParam(\"min_data_in_leaf\", lower= 1L, upper= 8000L)\n",
        "# )"
      ]
    },
    {
      "cell_type": "code",
      "source": [
        "# # EXP 9000\n",
        "\n",
        "# PARAM$hyperparametertuning$hs <- makeParamSet(\n",
        "#   makeIntegerParam(\"num_iterations\", lower= 250L, upper= 5000L),\n",
        "#   # o más con early stopping al entrenar\n",
        "#   makeNumericParam(\"learning_rate\", lower= 0.005, upper= 0.2),\n",
        "#   makeNumericParam(\"feature_fraction\", lower= 0.2, upper= 0.99),\n",
        "#   makeIntegerParam(\"num_leaves\", lower= 64L, upper= 1000L),\n",
        "#   makeIntegerParam(\"min_data_in_leaf\", lower= 50L, upper= 3000L),\n",
        "\n",
        "#   makeIntegerParam(\"max_depth\", lower = 3, upper= 26),\n",
        "#   makeNumericParam(\"min_gain_to_split\", lower = 0.0, upper = 0.4),\n",
        "#   #makeNumericParam(\"min_sum_hessian_in_leaf\", lower = 0.001, upper = 0.1),\n",
        "#   makeNumericParam(\"lambda_l1\", lower = 0.0, upper = 5.0),\n",
        "#   makeNumericParam(\"lambda_l2\", lower = 0.0, upper = 10.0),\n",
        "#   #max_bin= 31L, # lo debo dejar fijo, no participa de la BO\n",
        "\n",
        "#   makeNumericParam(\"bagging_fraction\", lower = 0.2, upper = 0.99),\n",
        "#   makeIntegerParam(\"bagging_freq\", lower = 1L, upper = 7L) #1 para que ocurra\n",
        "#   #makeNumericParam(\"pos_bagging_fraction\", lower = 0.5, upper = 1.0),\n",
        "#   #makeNumericParam(\"neg_bagging_fraction\", lower = 0.5, upper = 1.0),\n",
        "#   #makeNumericParam(\"scale_pos_weight\", lower = 0.5, upper = 1.0),\n",
        "\n",
        "# #son de dart\n",
        "#   # makeNumericParam(\"drop_rate\", lower = 0.0, upper = 0.3),\n",
        "#   # makeIntegerParam(\"max_drop\", lower = 0L, upper = 50L),\n",
        "#   # makeNumericParam(\"skip_drop\", lower = 0.1, upper = 0.5)\n",
        "# )\n"
      ],
      "metadata": {
        "id": "ShefDsrjoTcA"
      },
      "execution_count": null,
      "outputs": []
    },
    {
      "cell_type": "code",
      "source": [
        "# # EXP 9006\n",
        "\n",
        "# PARAM$hyperparametertuning$hs <- makeParamSet(\n",
        "#   makeIntegerParam(\"num_iterations\", lower= 250L, upper= 5000L),\n",
        "#   makeNumericParam(\"learning_rate\", lower= 0.005, upper= 0.1),\n",
        "#   makeNumericParam(\"feature_fraction\", lower= 0.2, upper= 0.99),\n",
        "#   makeIntegerParam(\"num_leaves\", lower= 64L, upper= 1000L),\n",
        "#   makeIntegerParam(\"min_data_in_leaf\", lower= 2L, upper= 5L)\n",
        "# )\n"
      ],
      "metadata": {
        "id": "Ui_SY_Rin_SR"
      },
      "execution_count": null,
      "outputs": []
    },
    {
      "cell_type": "code",
      "source": [
        "# EXP 9002\n",
        "\n",
        "PARAM$hyperparametertuning$hs <- makeParamSet(\n",
        "  makeIntegerParam(\"num_iterations\", lower= 250L, upper= 5000L),\n",
        "  # o más con early stopping al entrenar\n",
        "  makeNumericParam(\"learning_rate\", lower= 0.005, upper= 0.1),\n",
        "  makeNumericParam(\"feature_fraction\", lower= 0.2, upper= 0.99),\n",
        "  makeIntegerParam(\"num_leaves\", lower= 64L, upper= 1000L),\n",
        "  makeIntegerParam(\"min_data_in_leaf\", lower= 2L, upper= 5L), #ATENCION\n",
        "\n",
        "  makeIntegerParam(\"max_depth\", lower = 3, upper= 26),\n",
        "  makeNumericParam(\"min_gain_to_split\", lower = 0.0, upper = 0.4),\n",
        "  #makeNumericParam(\"min_sum_hessian_in_leaf\", lower = 0.001, upper = 0.1),\n",
        "  makeNumericParam(\"lambda_l1\", lower = 0.0, upper = 5.0),\n",
        "  makeNumericParam(\"lambda_l2\", lower = 0.0, upper = 10.0),\n",
        "  #max_bin= 31L, # lo debo dejar fijo, no participa de la BO\n",
        "\n",
        "  makeNumericParam(\"bagging_fraction\", lower = 0.2, upper = 0.99),\n",
        "  makeIntegerParam(\"bagging_freq\", lower = 1L, upper = 7L) #1 para que ocurra\n",
        "  #makeNumericParam(\"pos_bagging_fraction\", lower = 0.5, upper = 1.0),\n",
        "  #makeNumericParam(\"neg_bagging_fraction\", lower = 0.5, upper = 1.0),\n",
        "  #makeNumericParam(\"scale_pos_weight\", lower = 0.5, upper = 1.0),\n",
        "\n",
        "#son de dart\n",
        "  # makeNumericParam(\"drop_rate\", lower = 0.0, upper = 0.3),\n",
        "  # makeIntegerParam(\"max_drop\", lower = 0L, upper = 50L),\n",
        "  # makeNumericParam(\"skip_drop\", lower = 0.1, upper = 0.5)\n",
        ")\n"
      ],
      "metadata": {
        "id": "lKDM81bModdT"
      },
      "execution_count": null,
      "outputs": []
    },
    {
      "cell_type": "code",
      "execution_count": null,
      "metadata": {
        "id": "1FpxE0QOCvWo"
      },
      "outputs": [],
      "source": [
        "# # EXP HT 4942\n",
        "\n",
        "# PARAM$hyperparametertuning$hs <- makeParamSet(\n",
        "#   makeIntegerParam(\"num_iterations\", lower= 100L, upper= 5000L),\n",
        "#   # o más con early stopping al entrenar\n",
        "#   makeNumericParam(\"learning_rate\", lower= 0.01, upper= 0.1),\n",
        "#   makeNumericParam(\"feature_fraction\", lower= 0.3, upper= 1.0),\n",
        "#   makeIntegerParam(\"num_leaves\", lower= 64L, upper= 2000),\n",
        "#   makeIntegerParam(\"min_data_in_leaf\", lower= 50L, upper= 3000L),\n",
        "\n",
        "#   # makeIntegerParam(\"max_depth\", lower = 3, upper= 30),\n",
        "#   makeNumericParam(\"min_gain_to_split\", lower = 0.0, upper = 0.4),\n",
        "#   makeNumericParam(\"min_sum_hessian_in_leaf\", lower = 0.001, upper = 0.1),\n",
        "#   makeNumericParam(\"lambda_l1\", lower = 0.0, upper = 10.0),\n",
        "#   makeNumericParam(\"lambda_l2\", lower = 0.0, upper = 10.0),\n",
        "#   #max_bin= 31L, # lo debo dejar fijo, no participa de la BO\n",
        "\n",
        "#   makeNumericParam(\"bagging_fraction\", lower = 0.5, upper = 0.999),\n",
        "#   makeIntegerParam(\"bagging_freq\", lower = 1L, upper = 7L),\n",
        "#   #makeNumericParam(\"pos_bagging_fraction\", lower = 0.5, upper = 1.0),\n",
        "#   #makeNumericParam(\"neg_bagging_fraction\", lower = 0.5, upper = 1.0),\n",
        "#   makeNumericParam(\"scale_pos_weight\", lower = 20.0, upper = 40.0),\n",
        "\n",
        "# #son de dart\n",
        "#   makeNumericParam(\"drop_rate\", lower = 0.0, upper = 0.3),\n",
        "#   makeIntegerParam(\"max_drop\", lower = 0L, upper = 50L),\n",
        "#   makeNumericParam(\"skip_drop\", lower = 0.1, upper = 0.5)\n",
        "# )\n"
      ]
    },
    {
      "cell_type": "code",
      "source": [
        "# # EXP 9016 (explora entre 0,92 y 0,93 abandoné)\n",
        "# PARAM$hyperparametertuning$hs <- makeParamSet(\n",
        "#   makeIntegerParam(\"num_iterations\", lower= 800L, upper= 4100L), #acorté\n",
        "#   # o más con early stopping al entrenar\n",
        "#   makeNumericParam(\"learning_rate\", lower= 0.007, upper= 0.15), #agrandé\n",
        "#   makeNumericParam(\"feature_fraction\", lower= 0.2, upper= 0.8), #acorté\n",
        "#   makeIntegerParam(\"num_leaves\", lower= 64L, upper= 1000L),\n",
        "#   #makeIntegerParam(\"min_data_in_leaf\", lower= 2L, upper= 5L), fijo en 3\n",
        "\n",
        "#   makeIntegerParam(\"max_depth\", lower = 3, upper= 26),\n",
        "#   makeNumericParam(\"min_gain_to_split\", lower = 0.0, upper = 0.4),\n",
        "#   #makeNumericParam(\"min_sum_hessian_in_leaf\", lower = 0.001, upper = 0.1),\n",
        "#   makeNumericParam(\"lambda_l1\", lower = 0.0, upper = 5.0),\n",
        "#   makeNumericParam(\"lambda_l2\", lower = 0.0, upper = 10.0),\n",
        "\n",
        "#   makeNumericParam(\"bagging_fraction\", lower = 0.2, upper = 0.99),\n",
        "#   makeIntegerParam(\"bagging_freq\", lower = 1L, upper = 7L) #1 para que ocurra\n",
        "#   #makeNumericParam(\"pos_bagging_fraction\", lower = 0.5, upper = 1.0),\n",
        "#   #makeNumericParam(\"neg_bagging_fraction\", lower = 0.5, upper = 1.0),\n",
        "#   #makeNumericParam(\"scale_pos_weight\", lower = 0.5, upper = 1.0),\n",
        "# )"
      ],
      "metadata": {
        "id": "Pw6lXbRrhF8S"
      },
      "execution_count": null,
      "outputs": []
    },
    {
      "cell_type": "markdown",
      "metadata": {
        "id": "-_RPFUb3zMoW"
      },
      "source": [
        "A mayor cantidad de hiperparámetros, se debe aumentar las iteraciones de la Bayesian Optimization\n",
        "<br> 30 es un valor muy tacaño, pero corre rápido\n",
        "<br> deberia partir de 50, alcanzando los 100 si se dispone de tiempo"
      ]
    },
    {
      "cell_type": "markdown",
      "metadata": {
        "id": "4RWZXL1VZjMI"
      },
      "source": [
        "# Preprocesamiento"
      ]
    },
    {
      "cell_type": "code",
      "execution_count": null,
      "metadata": {
        "id": "FM3lxKoLZ643"
      },
      "outputs": [],
      "source": [
        "# # lectura del dataset\n",
        "dataset <- fread(\"https://storage.googleapis.com/silvanacontreras76_bukito3/datasets/competencia01_fe123_rankshort.csv.gz\", stringsAsFactors= TRUE)\n",
        "\n"
      ]
    },
    {
      "cell_type": "code",
      "execution_count": null,
      "metadata": {
        "id": "j3toG9-lZm4K"
      },
      "outputs": [],
      "source": [
        "# carpeta de trabajo\n",
        "\n",
        "setwd(\"/content/buckets/b1/exp\")\n",
        "experimento_folder <- paste0(\"HT\", PARAM$experimento)\n",
        "dir.create(experimento_folder, showWarnings=FALSE)\n",
        "setwd( paste0(\"/content/buckets/b1/exp/\", experimento_folder ))\n",
        "\n",
        "\n",
        "# # PARA R\n",
        "# # Definir directorio base\n",
        "# dir_base <- \"C:/Users/Silvana/Documents/Maestria Exactas/DMEyF/competencia 1/experimentos\"\n",
        "# dir.create(dir_base, showWarnings = FALSE, recursive = TRUE)\n",
        "\n",
        "# # Crear directorio exp\n",
        "# experimento <- paste0(\"exp\", PARAM$experimento)\n",
        "# dir_experimento <- file.path(dir_base, experimento)\n",
        "# dir.create(dir_experimento, showWarnings = FALSE)\n",
        "\n",
        "# # Crear directorio HT dentro de exp\n",
        "# HT <- paste0(\"HT\", PARAM$experimento)\n",
        "# dir_HT <- file.path(dir_experimento, HT)\n",
        "# dir.create(dir_HT, showWarnings = FALSE)\n",
        "\n",
        "# # Cambiar al directorio HT\n",
        "# setwd(dir_HT)\n",
        "\n",
        "# # Verificar\n",
        "# cat(\"Directorio de trabajo:\", getwd(), \"\\n\")\n",
        "\n"
      ]
    },
    {
      "cell_type": "code",
      "source": [
        "getwd()"
      ],
      "metadata": {
        "id": "jiFLdWHkiM-N"
      },
      "execution_count": null,
      "outputs": []
    },
    {
      "cell_type": "code",
      "execution_count": null,
      "metadata": {
        "id": "Pq2dRSugVGmw"
      },
      "outputs": [],
      "source": [
        "dim(dataset)"
      ]
    },
    {
      "cell_type": "markdown",
      "metadata": {
        "id": "zEy7RDMrDu0j"
      },
      "source": [
        "### define foto mes y clase"
      ]
    },
    {
      "cell_type": "code",
      "execution_count": null,
      "metadata": {
        "id": "OsJ-91UeZ-I_"
      },
      "outputs": [],
      "source": [
        "dataset_train <- dataset[foto_mes %in% PARAM$train]"
      ]
    },
    {
      "cell_type": "code",
      "execution_count": null,
      "metadata": {
        "id": "vrWE7BE0aB2J"
      },
      "outputs": [],
      "source": [
        "# paso la clase a binaria que tome valores {0,1}  enteros\n",
        "#  BAJA+1 y BAJA+2  son  1,   CONTINUA es 0\n",
        "#  a partir de ahora ya NO puedo cortar  por prob(BAJA+2) > 1/40\n",
        "\n",
        "dataset_train[,\n",
        "  clase01 := ifelse(clase_ternaria %in% c(\"BAJA+2\",\"BAJA+1\"), 1L, 0L)\n",
        "]"
      ]
    },
    {
      "cell_type": "code",
      "execution_count": null,
      "metadata": {
        "id": "jP7YlQBnaW6W"
      },
      "outputs": [],
      "source": [
        "# defino los datos que forma parte del training\n",
        "# aqui se hace el undersampling de los CONTINUA\n",
        "# notar que para esto utilizo la SEGUNDA semilla\n",
        "\n",
        "set.seed(PARAM$semilla_primigenia, kind = \"L'Ecuyer-CMRG\")\n",
        "dataset_train[, azar := runif(nrow(dataset_train))]\n",
        "dataset_train[, training := 0L]\n",
        "\n",
        "dataset_train[\n",
        "  foto_mes %in%  PARAM$train &\n",
        "    (azar <= PARAM$trainingstrategy$undersampling | clase_ternaria %in% c(\"BAJA+1\", \"BAJA+2\")),\n",
        "  training := 1L\n",
        "]"
      ]
    },
    {
      "cell_type": "code",
      "execution_count": null,
      "metadata": {
        "id": "xElu4s5W4rX7"
      },
      "outputs": [],
      "source": [
        "# los campos que se van a utilizar\n",
        "\n",
        "campos_buenos <- setdiff(\n",
        "  colnames(dataset_train),\n",
        "  c(\"clase_ternaria\", \"clase01\", \"azar\", \"training\")\n",
        ")"
      ]
    },
    {
      "cell_type": "code",
      "execution_count": null,
      "metadata": {
        "id": "PppMHcGYaaol"
      },
      "outputs": [],
      "source": [
        "# dejo los datos en el formato que necesita LightGBM\n",
        "\n",
        "dtrain <- lgb.Dataset(\n",
        "  data= data.matrix(dataset_train[training == 1L, campos_buenos, with= FALSE]),\n",
        "  label= dataset_train[training == 1L, clase01],\n",
        "  free_raw_data= FALSE\n",
        ")\n",
        "\n",
        "nrow(dtrain)\n",
        "ncol(dtrain)"
      ]
    },
    {
      "cell_type": "markdown",
      "metadata": {
        "id": "Ta-EkOu3cphF"
      },
      "source": [
        "2.2.5 Configuracion Bayesian Optimization"
      ]
    },
    {
      "cell_type": "code",
      "execution_count": null,
      "metadata": {
        "id": "cjgfurjdfiXb"
      },
      "outputs": [],
      "source": [
        "# En el argumento x llegan los parámetros de la bayesiana\n",
        "#  devuelve la AUC en cross validation del modelo entrenado\n",
        "\n",
        "EstimarGanancia_AUC_lightgbm <- function(x) {\n",
        "\n",
        "  # x pisa (o agrega) a param_fijos\n",
        "  param_completo <- modifyList(PARAM$lgbm$param_fijos, x)\n",
        "\n",
        "  # entreno LightGBM\n",
        "  modelocv <- lgb.cv(\n",
        "    data= dtrain,\n",
        "    nfold= PARAM$hyperparametertuning$xval_folds,\n",
        "    stratified= TRUE,\n",
        "    param= param_completo\n",
        "  )\n",
        "\n",
        "  # obtengo la ganancia\n",
        "  AUC <- modelocv$best_score\n",
        "\n",
        "  # hago espacio en la memoria\n",
        "  rm(modelocv)\n",
        "  gc(full= TRUE, verbose= FALSE)\n",
        "\n",
        "  message(format(Sys.time(), \"%a %b %d %X %Y\"), \" AUC \", AUC)\n",
        "\n",
        "  return(AUC)\n",
        "}"
      ]
    },
    {
      "cell_type": "code",
      "execution_count": null,
      "metadata": {
        "id": "WLi_o1hocvN-"
      },
      "outputs": [],
      "source": [
        "# Aqui comienza la configuracion de la Bayesian Optimization\n",
        "\n",
        "# en este archivo quedan la evolucion binaria de la BO\n",
        "kbayesiana <- \"bayesiana.RDATA\"\n",
        "\n",
        "funcion_optimizar <- EstimarGanancia_AUC_lightgbm # la funcion que voy a maximizar\n",
        "\n",
        "configureMlr(show.learner.output= FALSE)\n",
        "\n",
        "# configuro la busqueda bayesiana,  los hiperparametros que se van a optimizar\n",
        "# por favor, no desesperarse por lo complejo\n",
        "\n",
        "obj.fun <- makeSingleObjectiveFunction(\n",
        "  fn= funcion_optimizar, # la funcion que voy a maximizar\n",
        "  minimize= FALSE, # estoy Maximizando la ganancia\n",
        "  noisy= TRUE,\n",
        "  par.set= PARAM$hyperparametertuning$hs, # definido al comienzo del programa\n",
        "  has.simple.signature= FALSE # paso los parametros en una lista\n",
        ")\n",
        "\n",
        "# cada 600 segundos guardo el resultado intermedio\n",
        "ctrl <- makeMBOControl(\n",
        "  save.on.disk.at.time= 600, # se graba cada 600 segundos\n",
        "  save.file.path= kbayesiana\n",
        ") # se graba cada 600 segundos\n",
        "\n",
        "# indico la cantidad de iteraciones que va a tener la Bayesian Optimization\n",
        "ctrl <- setMBOControlTermination(\n",
        "  ctrl,\n",
        "  iters= PARAM$hyperparametertuning$iteraciones\n",
        ") # cantidad de iteraciones\n",
        "\n",
        "# defino el método estandar para la creacion de los puntos iniciales,\n",
        "# los \"No Inteligentes\"\n",
        "ctrl <- setMBOControlInfill(ctrl, crit= makeMBOInfillCritEI())\n",
        "\n",
        "# establezco la funcion que busca el maximo\n",
        "surr.km <- makeLearner(\n",
        "  \"regr.km\",\n",
        "  predict.type= \"se\",\n",
        "  covtype= \"matern3_2\",\n",
        "  control= list(trace= TRUE)\n",
        ")\n"
      ]
    },
    {
      "cell_type": "markdown",
      "metadata": {
        "id": "_uUeVo5pc4zc"
      },
      "source": [
        "2.2.6 Corrida Bayesian Optimization"
      ]
    },
    {
      "cell_type": "code",
      "execution_count": null,
      "metadata": {
        "colab": {
          "base_uri": "https://localhost:8080/"
        },
        "id": "RcABNaKGciaz",
        "outputId": "89ce57d5-8c3b-4bd3-dd37-decb4c26654a"
      },
      "outputs": [
        {
          "output_type": "stream",
          "name": "stderr",
          "text": [
            "Computing y column(s) for design. Not provided.\n",
            "\n",
            "Sat Oct 11 01:35:59 PM 2025 AUC 0.939027792612604\n",
            "\n",
            "Sat Oct 11 01:48:22 PM 2025 AUC 0.936403291008324\n",
            "\n",
            "Sat Oct 11 01:58:10 PM 2025 AUC 0.937748097032128\n",
            "\n",
            "Sat Oct 11 02:08:46 PM 2025 AUC 0.938927229301029\n",
            "\n",
            "Sat Oct 11 02:21:48 PM 2025 AUC 0.937190097437565\n",
            "\n",
            "Sat Oct 11 02:31:44 PM 2025 AUC 0.929565239397358\n",
            "\n",
            "Sat Oct 11 02:40:42 PM 2025 AUC 0.940019420194404\n",
            "\n",
            "Sat Oct 11 02:46:22 PM 2025 AUC 0.934491225962484\n",
            "\n",
            "Sat Oct 11 03:00:59 PM 2025 AUC 0.935535518590207\n",
            "\n",
            "Sat Oct 11 03:07:51 PM 2025 AUC 0.938108560104728\n",
            "\n",
            "Sat Oct 11 03:13:30 PM 2025 AUC 0.933570879336992\n",
            "\n",
            "Sat Oct 11 03:29:26 PM 2025 AUC 0.940225303226733\n",
            "\n",
            "Sat Oct 11 03:30:57 PM 2025 AUC 0.934377500009612\n",
            "\n",
            "Sat Oct 11 03:40:12 PM 2025 AUC 0.936208862350976\n",
            "\n",
            "Sat Oct 11 03:42:39 PM 2025 AUC 0.934759793273636\n",
            "\n",
            "Sat Oct 11 03:59:28 PM 2025 AUC 0.93820515812854\n",
            "\n",
            "Sat Oct 11 04:03:46 PM 2025 AUC 0.937424596339903\n",
            "\n",
            "Sat Oct 11 04:17:02 PM 2025 AUC 0.940362190115764\n",
            "\n",
            "Sat Oct 11 04:27:15 PM 2025 AUC 0.934214592432118\n",
            "\n",
            "Sat Oct 11 04:33:40 PM 2025 AUC 0.938277435259005\n",
            "\n",
            "Sat Oct 11 04:40:30 PM 2025 AUC 0.938128186594213\n",
            "\n",
            "Sat Oct 11 04:47:20 PM 2025 AUC 0.936707373374182\n",
            "\n",
            "Sat Oct 11 04:54:38 PM 2025 AUC 0.930136599842015\n",
            "\n",
            "Sat Oct 11 05:00:07 PM 2025 AUC 0.939016150971149\n",
            "\n",
            "Sat Oct 11 05:13:29 PM 2025 AUC 0.9361574967836\n",
            "\n",
            "Sat Oct 11 05:28:45 PM 2025 AUC 0.935559930557669\n",
            "\n",
            "Sat Oct 11 05:33:06 PM 2025 AUC 0.937477254397957\n",
            "\n",
            "Sat Oct 11 05:38:44 PM 2025 AUC 0.938624447267786\n",
            "\n",
            "Sat Oct 11 05:43:28 PM 2025 AUC 0.928658131704236\n",
            "\n",
            "Sat Oct 11 05:52:06 PM 2025 AUC 0.937402980160885\n",
            "\n",
            "Sat Oct 11 05:54:13 PM 2025 AUC 0.931028324681793\n",
            "\n",
            "Sat Oct 11 06:03:23 PM 2025 AUC 0.935569024419108\n",
            "\n",
            "Sat Oct 11 06:16:19 PM 2025 AUC 0.935066658285512\n",
            "\n",
            "Sat Oct 11 06:23:41 PM 2025 AUC 0.937425807730878\n",
            "\n",
            "Sat Oct 11 06:26:47 PM 2025 AUC 0.935500854197977\n",
            "\n",
            "Sat Oct 11 06:31:35 PM 2025 AUC 0.937475930026743\n",
            "\n",
            "Sat Oct 11 06:32:31 PM 2025 AUC 0.920866271613493\n",
            "\n",
            "Sat Oct 11 06:43:38 PM 2025 AUC 0.941308252716502\n",
            "\n",
            "Sat Oct 11 06:53:09 PM 2025 AUC 0.938180117193402\n",
            "\n",
            "Sat Oct 11 06:57:39 PM 2025 AUC 0.932514663889244\n",
            "\n",
            "Sat Oct 11 07:06:23 PM 2025 AUC 0.93893840771856\n",
            "\n",
            "Sat Oct 11 07:08:59 PM 2025 AUC 0.938033180134995\n",
            "\n",
            "Sat Oct 11 07:19:40 PM 2025 AUC 0.937094752115376\n",
            "\n",
            "Sat Oct 11 07:34:47 PM 2025 AUC 0.934954795901259\n",
            "\n",
            "[mbo] 0: num_iterations=3435; learning_rate=0.0437; feature_fraction=0.75; num_leaves=474; min_data_in_leaf=5; max_depth=14; min_gain_to_split=0.219; lambda_l1=0.942; lambda_l2=7.95; bagging_fraction=0.606; bagging_freq=2 : y = 0.939 : 708.3 secs : initdesign\n",
            "\n",
            "[mbo] 0: num_iterations=2276; learning_rate=0.0405; feature_fraction=0.567; num_leaves=371; min_data_in_leaf=5; max_depth=17; min_gain_to_split=0.255; lambda_l1=3.2; lambda_l2=5.29; bagging_fraction=0.439; bagging_freq=4 : y = 0.936 : 743.1 secs : initdesign\n",
            "\n",
            "[mbo] 0: num_iterations=3266; learning_rate=0.0441; feature_fraction=0.896; num_leaves=112; min_data_in_leaf=2; max_depth=18; min_gain_to_split=0.196; lambda_l1=2.07; lambda_l2=1.45; bagging_fraction=0.53; bagging_freq=6 : y = 0.938 : 588.3 secs : initdesign\n",
            "\n",
            "[mbo] 0: num_iterations=2990; learning_rate=0.0555; feature_fraction=0.643; num_leaves=494; min_data_in_leaf=3; max_depth=9; min_gain_to_split=0.105; lambda_l1=3.34; lambda_l2=6.58; bagging_fraction=0.724; bagging_freq=2 : y = 0.939 : 635.5 secs : initdesign\n",
            "\n",
            "[mbo] 0: num_iterations=3675; learning_rate=0.0801; feature_fraction=0.335; num_leaves=703; min_data_in_leaf=3; max_depth=9; min_gain_to_split=0.249; lambda_l1=2.25; lambda_l2=9.38; bagging_fraction=0.637; bagging_freq=5 : y = 0.937 : 782.2 secs : initdesign\n",
            "\n",
            "[mbo] 0: num_iterations=2423; learning_rate=0.0698; feature_fraction=0.469; num_leaves=528; min_data_in_leaf=3; max_depth=22; min_gain_to_split=0.324; lambda_l1=0.5; lambda_l2=7.46; bagging_fraction=0.207; bagging_freq=4 : y = 0.93 : 596.0 secs : initdesign\n",
            "\n",
            "[mbo] 0: num_iterations=1653; learning_rate=0.0217; feature_fraction=0.651; num_leaves=188; min_data_in_leaf=5; max_depth=22; min_gain_to_split=0.2; lambda_l1=1.47; lambda_l2=5.92; bagging_fraction=0.668; bagging_freq=2 : y = 0.94 : 538.4 secs : initdesign\n",
            "\n",
            "[mbo] 0: num_iterations=3925; learning_rate=0.1; feature_fraction=0.815; num_leaves=785; min_data_in_leaf=5; max_depth=15; min_gain_to_split=0.331; lambda_l1=2.75; lambda_l2=6.29; bagging_fraction=0.55; bagging_freq=7 : y = 0.934 : 340.0 secs : initdesign\n",
            "\n",
            "[mbo] 0: num_iterations=3543; learning_rate=0.057; feature_fraction=0.376; num_leaves=546; min_data_in_leaf=3; max_depth=13; min_gain_to_split=0.0191; lambda_l1=3.12; lambda_l2=1.93; bagging_fraction=0.379; bagging_freq=6 : y = 0.936 : 877.2 secs : initdesign\n",
            "\n",
            "[mbo] 0: num_iterations=1395; learning_rate=0.0328; feature_fraction=0.668; num_leaves=859; min_data_in_leaf=3; max_depth=23; min_gain_to_split=0.0901; lambda_l1=3.59; lambda_l2=4.27; bagging_fraction=0.51; bagging_freq=5 : y = 0.938 : 411.3 secs : initdesign\n",
            "\n",
            "[mbo] 0: num_iterations=1888; learning_rate=0.0275; feature_fraction=0.802; num_leaves=591; min_data_in_leaf=2; max_depth=25; min_gain_to_split=0.347; lambda_l1=2.93; lambda_l2=8.85; bagging_fraction=0.28; bagging_freq=6 : y = 0.934 : 338.8 secs : initdesign\n",
            "\n",
            "[mbo] 0: num_iterations=4928; learning_rate=0.0305; feature_fraction=0.607; num_leaves=803; min_data_in_leaf=5; max_depth=14; min_gain_to_split=0.304; lambda_l1=0.646; lambda_l2=5.14; bagging_fraction=0.659; bagging_freq=4 : y = 0.94 : 956.8 secs : initdesign\n",
            "\n",
            "[mbo] 0: num_iterations=417; learning_rate=0.0631; feature_fraction=0.403; num_leaves=609; min_data_in_leaf=3; max_depth=4; min_gain_to_split=0.145; lambda_l1=1.24; lambda_l2=9.75; bagging_fraction=0.697; bagging_freq=3 : y = 0.934 : 91.1 secs : initdesign\n",
            "\n",
            "[mbo] 0: num_iterations=2687; learning_rate=0.0674; feature_fraction=0.278; num_leaves=277; min_data_in_leaf=5; max_depth=23; min_gain_to_split=0.296; lambda_l1=2.03; lambda_l2=6.68; bagging_fraction=0.502; bagging_freq=5 : y = 0.936 : 554.4 secs : initdesign\n",
            "\n",
            "[mbo] 0: num_iterations=792; learning_rate=0.00871; feature_fraction=0.7; num_leaves=423; min_data_in_leaf=4; max_depth=8; min_gain_to_split=0.11; lambda_l1=1.78; lambda_l2=4.78; bagging_fraction=0.42; bagging_freq=7 : y = 0.935 : 146.8 secs : initdesign\n",
            "\n",
            "[mbo] 0: num_iterations=4067; learning_rate=0.0486; feature_fraction=0.542; num_leaves=137; min_data_in_leaf=3; max_depth=5; min_gain_to_split=0.173; lambda_l1=1.87; lambda_l2=0.938; bagging_fraction=0.848; bagging_freq=6 : y = 0.938 : 1009.6 secs : initdesign\n",
            "\n",
            "[mbo] 0: num_iterations=949; learning_rate=0.0808; feature_fraction=0.587; num_leaves=812; min_data_in_leaf=5; max_depth=11; min_gain_to_split=0.392; lambda_l1=3.74; lambda_l2=5.61; bagging_fraction=0.793; bagging_freq=1 : y = 0.937 : 257.8 secs : initdesign\n",
            "\n",
            "[mbo] 0: num_iterations=2929; learning_rate=0.0361; feature_fraction=0.359; num_leaves=259; min_data_in_leaf=3; max_depth=19; min_gain_to_split=0.0393; lambda_l1=2.57; lambda_l2=7.51; bagging_fraction=0.931; bagging_freq=6 : y = 0.94 : 796.3 secs : initdesign\n",
            "\n",
            "[mbo] 0: num_iterations=3284; learning_rate=0.0973; feature_fraction=0.219; num_leaves=338; min_data_in_leaf=2; max_depth=10; min_gain_to_split=0.166; lambda_l1=3.91; lambda_l2=2.88; bagging_fraction=0.622; bagging_freq=2 : y = 0.934 : 613.1 secs : initdesign\n",
            "\n",
            "[mbo] 0: num_iterations=1472; learning_rate=0.0151; feature_fraction=0.448; num_leaves=661; min_data_in_leaf=2; max_depth=7; min_gain_to_split=0.285; lambda_l1=3; lambda_l2=1.3; bagging_fraction=0.471; bagging_freq=3 : y = 0.938 : 384.2 secs : initdesign\n",
            "\n",
            "[mbo] 0: num_iterations=2812; learning_rate=0.0337; feature_fraction=0.764; num_leaves=687; min_data_in_leaf=4; max_depth=20; min_gain_to_split=0.338; lambda_l1=1.06; lambda_l2=0.117; bagging_fraction=0.405; bagging_freq=3 : y = 0.938 : 410.6 secs : initdesign\n",
            "\n",
            "[mbo] 0: num_iterations=4428; learning_rate=0.0757; feature_fraction=0.942; num_leaves=972; min_data_in_leaf=2; max_depth=25; min_gain_to_split=0.268; lambda_l1=3.81; lambda_l2=4.35; bagging_fraction=0.745; bagging_freq=5 : y = 0.937 : 410.0 secs : initdesign\n",
            "\n",
            "[mbo] 0: num_iterations=4676; learning_rate=0.0845; feature_fraction=0.961; num_leaves=617; min_data_in_leaf=5; max_depth=21; min_gain_to_split=0.15; lambda_l1=2.37; lambda_l2=5.87; bagging_fraction=0.303; bagging_freq=4 : y = 0.93 : 438.1 secs : initdesign\n",
            "\n",
            "[mbo] 0: num_iterations=1991; learning_rate=0.0534; feature_fraction=0.985; num_leaves=927; min_data_in_leaf=4; max_depth=6; min_gain_to_split=0.23; lambda_l1=0.773; lambda_l2=3.21; bagging_fraction=0.911; bagging_freq=3 : y = 0.939 : 328.8 secs : initdesign\n",
            "\n",
            "[mbo] 0: num_iterations=3737; learning_rate=0.0233; feature_fraction=0.301; num_leaves=86; min_data_in_leaf=4; max_depth=7; min_gain_to_split=0.073; lambda_l1=4.53; lambda_l2=3.64; bagging_fraction=0.358; bagging_freq=2 : y = 0.936 : 802.1 secs : initdesign\n",
            "\n",
            "[mbo] 0: num_iterations=4488; learning_rate=0.0506; feature_fraction=0.432; num_leaves=950; min_data_in_leaf=4; max_depth=3; min_gain_to_split=0.000907; lambda_l1=0.148; lambda_l2=2.3; bagging_fraction=0.812; bagging_freq=5 : y = 0.936 : 915.5 secs : initdesign\n",
            "\n",
            "[mbo] 0: num_iterations=1154; learning_rate=0.0724; feature_fraction=0.715; num_leaves=570; min_data_in_leaf=5; max_depth=20; min_gain_to_split=0.0607; lambda_l1=4.01; lambda_l2=7.06; bagging_fraction=0.891; bagging_freq=6 : y = 0.937 : 261.5 secs : initdesign\n",
            "\n",
            "[mbo] 0: num_iterations=1034; learning_rate=0.0264; feature_fraction=0.901; num_leaves=250; min_data_in_leaf=2; max_depth=16; min_gain_to_split=0.136; lambda_l1=3.52; lambda_l2=4.63; bagging_fraction=0.962; bagging_freq=1 : y = 0.939 : 338.0 secs : initdesign\n",
            "\n",
            "[mbo] 0: num_iterations=4139; learning_rate=0.0882; feature_fraction=0.873; num_leaves=219; min_data_in_leaf=2; max_depth=15; min_gain_to_split=0.274; lambda_l1=4.27; lambda_l2=1.78; bagging_fraction=0.271; bagging_freq=5 : y = 0.929 : 284.1 secs : initdesign\n",
            "\n",
            "[mbo] 0: num_iterations=4262; learning_rate=0.0199; feature_fraction=0.854; num_leaves=360; min_data_in_leaf=4; max_depth=24; min_gain_to_split=0.211; lambda_l1=4.56; lambda_l2=0.779; bagging_fraction=0.981; bagging_freq=7 : y = 0.937 : 518.0 secs : initdesign\n",
            "\n",
            "[mbo] 0: num_iterations=558; learning_rate=0.0901; feature_fraction=0.308; num_leaves=386; min_data_in_leaf=4; max_depth=21; min_gain_to_split=0.311; lambda_l1=4.79; lambda_l2=3.02; bagging_fraction=0.319; bagging_freq=1 : y = 0.931 : 127.0 secs : initdesign\n",
            "\n",
            "[mbo] 0: num_iterations=1830; learning_rate=0.0178; feature_fraction=0.244; num_leaves=727; min_data_in_leaf=3; max_depth=17; min_gain_to_split=0.183; lambda_l1=0.00965; lambda_l2=9.16; bagging_fraction=0.334; bagging_freq=3 : y = 0.936 : 549.6 secs : initdesign\n",
            "\n",
            "[mbo] 0: num_iterations=2580; learning_rate=0.0772; feature_fraction=0.497; num_leaves=212; min_data_in_leaf=4; max_depth=13; min_gain_to_split=0.017; lambda_l1=0.402; lambda_l2=7.02; bagging_fraction=0.388; bagging_freq=6 : y = 0.935 : 776.5 secs : initdesign\n",
            "\n",
            "[mbo] 0: num_iterations=3852; learning_rate=0.0388; feature_fraction=0.724; num_leaves=754; min_data_in_leaf=2; max_depth=8; min_gain_to_split=0.372; lambda_l1=4.73; lambda_l2=8.46; bagging_fraction=0.866; bagging_freq=4 : y = 0.937 : 441.3 secs : initdesign\n",
            "\n",
            "[mbo] 0: num_iterations=777; learning_rate=0.0702; feature_fraction=0.475; num_leaves=647; min_data_in_leaf=4; max_depth=6; min_gain_to_split=0.376; lambda_l1=1.63; lambda_l2=3.9; bagging_fraction=0.573; bagging_freq=7 : y = 0.936 : 186.8 secs : initdesign\n",
            "\n",
            "[mbo] 0: num_iterations=2094; learning_rate=0.0851; feature_fraction=0.792; num_leaves=445; min_data_in_leaf=5; max_depth=5; min_gain_to_split=0.0926; lambda_l1=4.39; lambda_l2=2.2; bagging_fraction=0.719; bagging_freq=1 : y = 0.937 : 287.5 secs : initdesign\n",
            "\n",
            "[mbo] 0: num_iterations=301; learning_rate=0.0121; feature_fraction=0.39; num_leaves=846; min_data_in_leaf=4; max_depth=3; min_gain_to_split=0.118; lambda_l1=4.15; lambda_l2=8.96; bagging_fraction=0.22; bagging_freq=3 : y = 0.921 : 56.1 secs : initdesign\n",
            "\n",
            "[mbo] 0: num_iterations=1568; learning_rate=0.0107; feature_fraction=0.537; num_leaves=883; min_data_in_leaf=2; max_depth=11; min_gain_to_split=0.0543; lambda_l1=2.7; lambda_l2=0.395; bagging_fraction=0.942; bagging_freq=7 : y = 0.941 : 667.0 secs : initdesign\n",
            "\n",
            "[mbo] 0: num_iterations=2367; learning_rate=0.0952; feature_fraction=0.515; num_leaves=158; min_data_in_leaf=2; max_depth=10; min_gain_to_split=0.387; lambda_l1=1.28; lambda_l2=8.36; bagging_fraction=0.776; bagging_freq=1 : y = 0.938 : 571.0 secs : initdesign\n",
            "\n",
            "[mbo] 0: num_iterations=1273; learning_rate=0.0464; feature_fraction=0.929; num_leaves=451; min_data_in_leaf=2; max_depth=19; min_gain_to_split=0.0687; lambda_l1=1.55; lambda_l2=2.57; bagging_fraction=0.245; bagging_freq=1 : y = 0.933 : 269.9 secs : initdesign\n",
            "\n",
            "[mbo] 0: num_iterations=4776; learning_rate=0.0645; feature_fraction=0.628; num_leaves=911; min_data_in_leaf=4; max_depth=26; min_gain_to_split=0.242; lambda_l1=0.267; lambda_l2=9.97; bagging_fraction=0.839; bagging_freq=2 : y = 0.939 : 524.2 secs : initdesign\n",
            "\n",
            "[mbo] 0: num_iterations=676; learning_rate=0.0919; feature_fraction=0.255; num_leaves=305; min_data_in_leaf=3; max_depth=26; min_gain_to_split=0.16; lambda_l1=0.845; lambda_l2=0.661; bagging_fraction=0.77; bagging_freq=4 : y = 0.938 : 155.5 secs : initdesign\n",
            "\n",
            "[mbo] 0: num_iterations=3112; learning_rate=0.00525; feature_fraction=0.832; num_leaves=64; min_data_in_leaf=5; max_depth=12; min_gain_to_split=0.355; lambda_l1=2.44; lambda_l2=8.07; bagging_fraction=0.59; bagging_freq=7 : y = 0.937 : 641.3 secs : initdesign\n",
            "\n",
            "[mbo] 0: num_iterations=4862; learning_rate=0.0591; feature_fraction=0.214; num_leaves=998; min_data_in_leaf=3; max_depth=17; min_gain_to_split=0.0327; lambda_l1=4.95; lambda_l2=3.53; bagging_fraction=0.465; bagging_freq=2 : y = 0.935 : 907.2 secs : initdesign\n",
            "\n",
            "Saved the current state after iteration 1 in the file bayesiana.RDATA.\n",
            "\n",
            "Sat Oct 11 07:49:36 PM 2025 AUC 0.940971859634669\n",
            "\n",
            "[mbo] 1: num_iterations=2216; learning_rate=0.00974; feature_fraction=0.56; num_leaves=665; min_data_in_leaf=3; max_depth=18; min_gain_to_split=0.256; lambda_l1=0.933; lambda_l2=1.28; bagging_fraction=0.744; bagging_freq=4 : y = 0.941 : 888.1 secs : infill_ei\n",
            "\n",
            "Saved the current state after iteration 2 in the file bayesiana.RDATA.\n",
            "\n",
            "Sat Oct 11 08:04:25 PM 2025 AUC 0.940773239831102\n",
            "\n",
            "[mbo] 2: num_iterations=1834; learning_rate=0.00951; feature_fraction=0.516; num_leaves=697; min_data_in_leaf=2; max_depth=18; min_gain_to_split=0.11; lambda_l1=1.2; lambda_l2=1.84; bagging_fraction=0.931; bagging_freq=6 : y = 0.941 : 888.4 secs : infill_ei\n",
            "\n",
            "Saved the current state after iteration 3 in the file bayesiana.RDATA.\n",
            "\n",
            "Sat Oct 11 08:20:22 PM 2025 AUC 0.94017393181147\n",
            "\n",
            "[mbo] 3: num_iterations=3059; learning_rate=0.0197; feature_fraction=0.563; num_leaves=692; min_data_in_leaf=4; max_depth=26; min_gain_to_split=0.303; lambda_l1=0.917; lambda_l2=4.8; bagging_fraction=0.68; bagging_freq=1 : y = 0.94 : 956.7 secs : infill_ei\n",
            "\n",
            "Saved the current state after iteration 4 in the file bayesiana.RDATA.\n",
            "\n",
            "Sat Oct 11 08:44:45 PM 2025 AUC 0.939598318099171\n",
            "\n",
            "[mbo] 4: num_iterations=4191; learning_rate=0.00743; feature_fraction=0.493; num_leaves=712; min_data_in_leaf=2; max_depth=17; min_gain_to_split=0.22; lambda_l1=0.708; lambda_l2=1.43; bagging_fraction=0.567; bagging_freq=4 : y = 0.94 : 1462.0 secs : infill_ei\n",
            "\n",
            "Saved the current state after iteration 5 in the file bayesiana.RDATA.\n",
            "\n",
            "Sat Oct 11 08:55:24 PM 2025 AUC 0.940369730374503\n",
            "\n",
            "[mbo] 5: num_iterations=3141; learning_rate=0.0235; feature_fraction=0.666; num_leaves=264; min_data_in_leaf=4; max_depth=16; min_gain_to_split=0.219; lambda_l1=1.33; lambda_l2=2.98; bagging_fraction=0.767; bagging_freq=2 : y = 0.94 : 638.3 secs : infill_ei\n",
            "\n",
            "Saved the current state after iteration 6 in the file bayesiana.RDATA.\n",
            "\n",
            "Sat Oct 11 09:05:07 PM 2025 AUC 0.940335499261179\n",
            "\n",
            "[mbo] 6: num_iterations=1734; learning_rate=0.0207; feature_fraction=0.607; num_leaves=368; min_data_in_leaf=2; max_depth=11; min_gain_to_split=0.0588; lambda_l1=2.41; lambda_l2=2.53; bagging_fraction=0.791; bagging_freq=7 : y = 0.94 : 582.5 secs : infill_ei\n",
            "\n",
            "Sat Oct 11 09:16:12 PM 2025 AUC 0.939991865192164\n",
            "\n",
            "[mbo] 7: num_iterations=2000; learning_rate=0.0182; feature_fraction=0.547; num_leaves=840; min_data_in_leaf=2; max_depth=20; min_gain_to_split=0.245; lambda_l1=1.33; lambda_l2=0.536; bagging_fraction=0.646; bagging_freq=7 : y = 0.94 : 664.8 secs : infill_ei\n",
            "\n",
            "Saved the current state after iteration 8 in the file bayesiana.RDATA.\n",
            "\n",
            "Sat Oct 11 09:24:00 PM 2025 AUC 0.939632466100535\n",
            "\n",
            "[mbo] 8: num_iterations=1960; learning_rate=0.0231; feature_fraction=0.311; num_leaves=719; min_data_in_leaf=3; max_depth=13; min_gain_to_split=0.195; lambda_l1=2.2; lambda_l2=0.723; bagging_fraction=0.928; bagging_freq=4 : y = 0.94 : 466.8 secs : infill_ei\n",
            "\n",
            "Sat Oct 11 09:39:37 PM 2025 AUC 0.940664112648543\n",
            "\n",
            "[mbo] 9: num_iterations=1709; learning_rate=0.00764; feature_fraction=0.868; num_leaves=887; min_data_in_leaf=2; max_depth=18; min_gain_to_split=0.0302; lambda_l1=2.63; lambda_l2=0.198; bagging_fraction=0.917; bagging_freq=7 : y = 0.941 : 936.4 secs : infill_ei\n",
            "\n",
            "Saved the current state after iteration 10 in the file bayesiana.RDATA.\n",
            "\n",
            "Sat Oct 11 09:51:41 PM 2025 AUC 0.94179778833243\n",
            "\n",
            "[mbo] 10: num_iterations=2019; learning_rate=0.00825; feature_fraction=0.674; num_leaves=200; min_data_in_leaf=3; max_depth=19; min_gain_to_split=0.118; lambda_l1=0.441; lambda_l2=0.307; bagging_fraction=0.597; bagging_freq=3 : y = 0.942 : 723.4 secs : infill_ei\n",
            "\n",
            "Saved the current state after iteration 11 in the file bayesiana.RDATA.\n",
            "\n",
            "Sat Oct 11 10:08:33 PM 2025 AUC 0.941528304718004\n",
            "\n",
            "[mbo] 11: num_iterations=2403; learning_rate=0.00811; feature_fraction=0.694; num_leaves=242; min_data_in_leaf=3; max_depth=24; min_gain_to_split=0.162; lambda_l1=0.00952; lambda_l2=5.53; bagging_fraction=0.684; bagging_freq=4 : y = 0.942 : 1011.6 secs : infill_ei\n",
            "\n",
            "Saved the current state after iteration 12 in the file bayesiana.RDATA.\n",
            "\n"
          ]
        }
      ],
      "source": [
        " # inicio la optimizacion bayesiana, retomando si ya existe\n",
        "# es la celda mas lenta de todo el notebook\n",
        "\n",
        "if (!file.exists(kbayesiana)) {\n",
        "  bayesiana_salida <- mbo(obj.fun, learner= surr.km, control= ctrl)\n",
        "} else {\n",
        "  bayesiana_salida <- mboContinue(kbayesiana) # retomo en caso que ya exista\n",
        "}"
      ]
    },
    {
      "cell_type": "code",
      "source": [
        "print(bayesiana_salida$x)  # Mejores hiperparámetros\n",
        "print(bayesiana_salida$y)  # Mejor AUC"
      ],
      "metadata": {
        "id": "Xu6j4Ar-78pI",
        "colab": {
          "base_uri": "https://localhost:8080/"
        },
        "outputId": "11a03022-b0cb-4531-d972-cf7eb62d69cb"
      },
      "execution_count": null,
      "outputs": [
        {
          "output_type": "stream",
          "name": "stdout",
          "text": [
            "$num_iterations\n",
            "[1] 4670\n",
            "\n",
            "$learning_rate\n",
            "[1] 0.01715264\n",
            "\n",
            "$feature_fraction\n",
            "[1] 0.8654658\n",
            "\n",
            "$num_leaves\n",
            "[1] 393\n",
            "\n",
            "$min_data_in_leaf\n",
            "[1] 3\n",
            "\n",
            "$max_depth\n",
            "[1] 15\n",
            "\n",
            "$min_gain_to_split\n",
            "[1] 0.002911684\n",
            "\n",
            "$lambda_l1\n",
            "[1] 0.2110022\n",
            "\n",
            "$lambda_l2\n",
            "[1] 3.550555\n",
            "\n",
            "$bagging_fraction\n",
            "[1] 0.8114441\n",
            "\n",
            "$bagging_freq\n",
            "[1] 7\n",
            "\n",
            "[1] 0.9456749\n"
          ]
        }
      ]
    },
    {
      "cell_type": "markdown",
      "metadata": {
        "id": "ZUEUB_vGxwlp"
      },
      "source": [
        "##LEVANTO PROCESO INTERRUMPIDO"
      ]
    },
    {
      "cell_type": "code",
      "execution_count": null,
      "metadata": {
        "id": "F8KtQjIVwVor",
        "colab": {
          "base_uri": "https://localhost:8080/",
          "height": 345
        },
        "outputId": "bd319441-2971-44ba-eb14-dcd60f6f1c00"
      },
      "outputs": [
        {
          "output_type": "stream",
          "name": "stderr",
          "text": [
            "Warning message in readChar(con, 5L, useBytes = TRUE):\n",
            "“cannot open compressed file 'bayesiana.RDATA', probable reason 'No such file or directory'”\n"
          ]
        },
        {
          "output_type": "error",
          "ename": "ERROR",
          "evalue": "Error in readChar(con, 5L, useBytes = TRUE): cannot open the connection\n",
          "traceback": [
            "Error in readChar(con, 5L, useBytes = TRUE): cannot open the connection\nTraceback:\n",
            "1. load.default(kbayesiana)",
            "2. base::load(..., envir = envir)",
            "3. readChar(con, 5L, useBytes = TRUE)",
            "4. .handleSimpleError(function (cnd) \n . {\n .     watcher$capture_plot_and_output()\n .     cnd <- sanitize_call(cnd)\n .     watcher$push(cnd)\n .     switch(on_error, continue = invokeRestart(\"eval_continue\"), \n .         stop = invokeRestart(\"eval_stop\"), error = NULL)\n . }, \"cannot open the connection\", base::quote(readChar(con, 5L, \n .     useBytes = TRUE)))"
          ]
        }
      ],
      "source": [
        "# # levantar proceso interrumpido sin continuar\n",
        "\n",
        "# load(kbayesiana)  # carga 'opt.state' en el entorno\n",
        "\n",
        "# # armo un contenedor con el mismo campo que usaba\n",
        "# bayesiana_salida <- list(opt.path = opt.state$opt.path)\n",
        "\n",
        "# print(bayesiana_salida$x)  # Mejores hiperparámetros\n",
        "# print(bayesiana_salida$y)  # Mejor AUC\n"
      ]
    },
    {
      "cell_type": "code",
      "execution_count": null,
      "metadata": {
        "id": "ssk5nnMk6INK",
        "colab": {
          "base_uri": "https://localhost:8080/",
          "height": 52
        },
        "outputId": "8d48089a-56ad-4e22-8a2c-7cac99d483e6"
      },
      "outputs": [
        {
          "output_type": "display_data",
          "data": {
            "text/html": [
              "<style>\n",
              ".list-inline {list-style: none; margin:0; padding: 0}\n",
              ".list-inline>li {display: inline-block}\n",
              ".list-inline>li:not(:last-child)::after {content: \"\\00b7\"; padding: 0 .5ex}\n",
              "</style>\n",
              "<ol class=list-inline><li>'num_iterations'</li><li>'learning_rate'</li><li>'feature_fraction'</li><li>'num_leaves'</li><li>'min_data_in_leaf'</li><li>'max_depth'</li><li>'min_gain_to_split'</li><li>'lambda_l1'</li><li>'lambda_l2'</li><li>'bagging_fraction'</li><li>'bagging_freq'</li><li>'y'</li><li>'dob'</li><li>'eol'</li><li>'error.message'</li><li>'exec.time'</li><li>'ei'</li><li>'error.model'</li><li>'train.time'</li><li>'prop.type'</li><li>'propose.time'</li><li>'se'</li><li>'mean'</li></ol>\n"
            ],
            "text/markdown": "1. 'num_iterations'\n2. 'learning_rate'\n3. 'feature_fraction'\n4. 'num_leaves'\n5. 'min_data_in_leaf'\n6. 'max_depth'\n7. 'min_gain_to_split'\n8. 'lambda_l1'\n9. 'lambda_l2'\n10. 'bagging_fraction'\n11. 'bagging_freq'\n12. 'y'\n13. 'dob'\n14. 'eol'\n15. 'error.message'\n16. 'exec.time'\n17. 'ei'\n18. 'error.model'\n19. 'train.time'\n20. 'prop.type'\n21. 'propose.time'\n22. 'se'\n23. 'mean'\n\n\n",
            "text/latex": "\\begin{enumerate*}\n\\item 'num\\_iterations'\n\\item 'learning\\_rate'\n\\item 'feature\\_fraction'\n\\item 'num\\_leaves'\n\\item 'min\\_data\\_in\\_leaf'\n\\item 'max\\_depth'\n\\item 'min\\_gain\\_to\\_split'\n\\item 'lambda\\_l1'\n\\item 'lambda\\_l2'\n\\item 'bagging\\_fraction'\n\\item 'bagging\\_freq'\n\\item 'y'\n\\item 'dob'\n\\item 'eol'\n\\item 'error.message'\n\\item 'exec.time'\n\\item 'ei'\n\\item 'error.model'\n\\item 'train.time'\n\\item 'prop.type'\n\\item 'propose.time'\n\\item 'se'\n\\item 'mean'\n\\end{enumerate*}\n",
            "text/plain": [
              " [1] \"num_iterations\"    \"learning_rate\"     \"feature_fraction\" \n",
              " [4] \"num_leaves\"        \"min_data_in_leaf\"  \"max_depth\"        \n",
              " [7] \"min_gain_to_split\" \"lambda_l1\"         \"lambda_l2\"        \n",
              "[10] \"bagging_fraction\"  \"bagging_freq\"      \"y\"                \n",
              "[13] \"dob\"               \"eol\"               \"error.message\"    \n",
              "[16] \"exec.time\"         \"ei\"                \"error.model\"      \n",
              "[19] \"train.time\"        \"prop.type\"         \"propose.time\"     \n",
              "[22] \"se\"                \"mean\"             "
            ]
          },
          "metadata": {}
        }
      ],
      "source": [
        "\n",
        "tb_bayesiana <- as.data.table(bayesiana_salida$opt.path)\n",
        "colnames( tb_bayesiana)"
      ]
    },
    {
      "cell_type": "code",
      "execution_count": null,
      "metadata": {
        "id": "u4zq-vknhjGc"
      },
      "outputs": [],
      "source": [
        "# almaceno los resultados de la Bayesian Optimization\n",
        "# y capturo los mejores hiperparametros encontrados\n",
        "\n",
        "tb_bayesiana <- as.data.table(bayesiana_salida$opt.path) #(ya está en la celda anterior)\n",
        "\n",
        "tb_bayesiana[, iter := .I]\n",
        "\n",
        "# ordeno en forma descendente por AUC = y\n",
        "setorder(tb_bayesiana, -y)\n",
        "\n",
        "# grabo para eventualmente poder utilizarlos en OTRA corrida\n",
        "fwrite( tb_bayesiana,\n",
        "  file= \"BO_log.txt\",\n",
        "  sep= \"\\t\"\n",
        ")\n",
        "\n",
        "# los mejores hiperparámetros son los que quedaron en el registro 1 de la tabla\n",
        "PARAM$out$lgbm$mejores_hiperparametros <- tb_bayesiana[\n",
        "  1, # el primero es el de mejor AUC\n",
        "  setdiff(colnames(tb_bayesiana),\n",
        "    c(\"y\",\"dob\",\"eol\",\"error.message\",\"exec.time\",\"ei\",\"error.model\",\n",
        "      \"train.time\",\"prop.type\",\"propose.time\",\"se\",\"mean\",\"iter\")),\n",
        "  with= FALSE\n",
        "]\n",
        "\n",
        "\n",
        "PARAM$out$lgbm$y <- tb_bayesiana[1, y]\n"
      ]
    },
    {
      "cell_type": "code",
      "execution_count": null,
      "metadata": {
        "id": "E8v2eA427N8e"
      },
      "outputs": [],
      "source": [
        "write_yaml( PARAM, file=\"PARAM.yml\")"
      ]
    },
    {
      "cell_type": "code",
      "execution_count": null,
      "metadata": {
        "id": "iBTWexVU7PGC",
        "colab": {
          "base_uri": "https://localhost:8080/"
        },
        "outputId": "f5d7cd35-956b-4747-d087-b1917e88f026"
      },
      "outputs": [
        {
          "output_type": "stream",
          "name": "stdout",
          "text": [
            "   num_iterations learning_rate feature_fraction num_leaves min_data_in_leaf\n",
            "            <int>         <num>            <num>      <int>            <int>\n",
            "1:           4670    0.01715264        0.8654658        393                3\n",
            "   max_depth min_gain_to_split lambda_l1 lambda_l2 bagging_fraction\n",
            "       <int>             <num>     <num>     <num>            <num>\n",
            "1:        15       0.002911684 0.2110022  3.550555        0.8114441\n",
            "   bagging_freq\n",
            "          <int>\n",
            "1:            7\n",
            "[1] 0.9456749\n"
          ]
        }
      ],
      "source": [
        "print(PARAM$out$lgbm$mejores_hiperparametros)\n",
        "print(PARAM$out$lgbm$y)"
      ]
    }
  ],
  "metadata": {
    "colab": {
      "machine_shape": "hm",
      "provenance": [],
      "toc_visible": true
    },
    "kernelspec": {
      "display_name": "R",
      "name": "ir"
    },
    "language_info": {
      "name": "R"
    }
  },
  "nbformat": 4,
  "nbformat_minor": 0
}