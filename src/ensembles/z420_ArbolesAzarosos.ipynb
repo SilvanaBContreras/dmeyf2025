{
 "cells": [
  {
   "cell_type": "markdown",
   "metadata": {
    "id": "kgJ0E--L0n9s"
   },
   "source": [
    "# 4. Ensembles de Arboles de Decision"
   ]
  },
  {
   "cell_type": "markdown",
   "metadata": {
    "id": "PgLdmWznXWGZ"
   },
   "source": [
    "Un arbol de decisión es un modelo débil, el aumento del poder predictivo proviene al ensamblar varios arboles de decisión.\n",
    "<br> Si promedio n arboles identicos, el resultados es exactamente el mismo que utilizar un solo arbol, necesito PERTURBAR cada arbol para disponer de variablidad"
   ]
  },
  {
   "cell_type": "markdown",
   "metadata": {
    "id": "FTnxMEOqYRXZ"
   },
   "source": [
    "la variabilidad provendrá de estas fuentes:\n",
    "\n",
    "\n",
    "*   Perturbar el dataset\n",
    "*   Perturbar el algoritmo del arbol\n",
    "*   Perturbar el dataset y el algoritmo del arbol al mismo tiempo"
   ]
  },
  {
   "cell_type": "markdown",
   "metadata": {
    "id": "DHp1h9m-X7Rc"
   },
   "source": [
    "Se verán estos tres algoritmos\n",
    "\n",
    "\n",
    "*   Arboles Azarosos\n",
    "*   Random Forest\n",
    "*   Gradient Boosting of Decision Trees"
   ]
  },
  {
   "cell_type": "markdown",
   "metadata": {
    "id": "3m0ySYPfa7Zr"
   },
   "source": [
    "#### 4.01 Seteo del ambiente en Google Colab"
   ]
  },
  {
   "cell_type": "markdown",
   "metadata": {
    "id": "NGY7H9xza7Zr"
   },
   "source": [
    "Esta parte se debe correr con el runtime en Python3\n",
    "<br>Ir al menu, Runtime -> Change Runtime Type -> Runtime type ->  **Python 3**"
   ]
  },
  {
   "cell_type": "markdown",
   "metadata": {
    "id": "7PupIBNba7Zr"
   },
   "source": [
    "Conectar la virtual machine donde esta corriendo Google Colab con el  Google Drive, para poder tener persistencia de archivos"
   ]
  },
  {
   "cell_type": "code",
   "execution_count": null,
   "metadata": {
    "id": "9LpZCst5a7Zs"
   },
   "outputs": [],
   "source": [
    "# primero establecer el Runtime de Python 3\n",
    "from google.colab import drive\n",
    "drive.mount('/content/.drive')"
   ]
  },
  {
   "cell_type": "markdown",
   "metadata": {
    "id": "JYC_F-wla7Zs"
   },
   "source": [
    "<br>los siguientes comando estan en shell script de Linux\n",
    "*   Crear las carpetas en el Google Drive\n",
    "*   Bajar el  **competencia_01_crudo**  al  Google Drive  y tambien al disco local de la virtual machine que esta corriendo Google Colab"
   ]
  },
  {
   "cell_type": "code",
   "execution_count": null,
   "metadata": {
    "id": "XWLelftXa7Zt"
   },
   "outputs": [],
   "source": [
    "%%shell\n",
    "\n",
    "mkdir -p \"/content/.drive/My Drive/dmeyf\"\n",
    "mkdir -p \"/content/buckets\"\n",
    "ln -s \"/content/.drive/My Drive/dmeyf\" /content/buckets/b1\n",
    "\n",
    "\n",
    "mkdir -p /content/buckets/b1/exp\n",
    "mkdir -p /content/buckets/b1/datasets\n",
    "mkdir -p /content/datasets\n",
    "\n",
    "\n",
    "\n",
    "archivo_origen=\"https://storage.googleapis.com/open-courses/dmeyf2025-e4a2/competencia_01_crudo.csv\"\n",
    "archivo_destino=\"/content/datasets/competencia_01_crudo.csv\"\n",
    "archivo_destino_bucket=\"/content/buckets/b1/datasets/competencia_01_crudo.csv\"\n",
    "\n",
    "if ! test -f $archivo_destino_bucket; then\n",
    "  wget  $archivo_origen  -O $archivo_destino_bucket\n",
    "fi\n",
    "\n",
    "\n",
    "if ! test -f $archivo_destino; then\n",
    "  cp  $archivo_destino_bucket  $archivo_destino\n",
    "fi\n"
   ]
  },
  {
   "cell_type": "markdown",
   "metadata": {
    "id": "Pc9x9DnsNlZv"
   },
   "source": [
    "\n",
    "\n",
    "---\n",
    "\n"
   ]
  },
  {
   "cell_type": "markdown",
   "metadata": {
    "id": "dseB4qb9RqUb"
   },
   "source": [
    "## Generacion de la clase_ternaria"
   ]
  },
  {
   "cell_type": "markdown",
   "metadata": {
    "id": "LCEnE_02RuIQ"
   },
   "source": [
    "Esta parte se debe correr con el runtime en lenguaje **R** Ir al menu, Runtime -> Change Runtime Tipe -> Runtime type -> R"
   ]
  },
  {
   "cell_type": "code",
   "execution_count": null,
   "metadata": {
    "id": "P863YZB9R1Ua"
   },
   "outputs": [],
   "source": [
    "require( \"data.table\" )\n",
    "\n",
    "# leo el dataset\n",
    "dataset <- fread(\"/content/datasets/competencia_01_crudo.csv\" )\n",
    "\n",
    "# calculo el periodo0 consecutivo\n",
    "dsimple <- dataset[, list(\n",
    "    \"pos\" = .I,\n",
    "    numero_de_cliente,\n",
    "    periodo0 = as.integer(foto_mes/100)*12 +  foto_mes%%100 ) ]\n",
    "\n",
    "\n",
    "# ordeno\n",
    "setorder( dsimple, numero_de_cliente, periodo0 )\n",
    "\n",
    "# calculo topes\n",
    "periodo_ultimo <- dsimple[, max(periodo0) ]\n",
    "periodo_anteultimo <- periodo_ultimo - 1\n",
    "\n",
    "\n",
    "# calculo los leads de orden 1 y 2\n",
    "dsimple[, c(\"periodo1\", \"periodo2\") :=\n",
    "    shift(periodo0, n=1:2, fill=NA, type=\"lead\"),  numero_de_cliente ]\n",
    "\n",
    "# assign most common class values = \"CONTINUA\"\n",
    "dsimple[ periodo0 < periodo_anteultimo, clase_ternaria := \"CONTINUA\" ]\n",
    "\n",
    "# calculo BAJA+1\n",
    "dsimple[ periodo0 < periodo_ultimo &\n",
    "    ( is.na(periodo1) | periodo0 + 1 < periodo1 ),\n",
    "    clase_ternaria := \"BAJA+1\" ]\n",
    "\n",
    "# calculo BAJA+2\n",
    "dsimple[ periodo0 < periodo_anteultimo & (periodo0+1 == periodo1 )\n",
    "    & ( is.na(periodo2) | periodo0 + 2 < periodo2 ),\n",
    "    clase_ternaria := \"BAJA+2\" ]\n",
    "\n",
    "\n",
    "# pego el resultado en el dataset original y grabo\n",
    "setorder( dsimple, pos )\n",
    "dataset[, clase_ternaria := dsimple$clase_ternaria ]\n",
    "\n",
    "fwrite( dataset,\n",
    "    file =  \"/content/datasets/competencia_01.csv.gz\",\n",
    "    sep = \",\"\n",
    ")"
   ]
  },
  {
   "cell_type": "code",
   "execution_count": null,
   "metadata": {
    "id": "S3hL7tv8W4rn"
   },
   "outputs": [],
   "source": [
    "setorder( dataset, foto_mes, clase_ternaria, numero_de_cliente)\n",
    "dataset[, .N, list(foto_mes, clase_ternaria)]"
   ]
  },
  {
   "cell_type": "markdown",
   "metadata": {
    "id": "qq0KVOtq1K5D"
   },
   "source": [
    "## 4.02 Arboles Azarosos"
   ]
  },
  {
   "cell_type": "markdown",
   "metadata": {
    "id": "HsNJjhlRo9jM"
   },
   "source": [
    "Arboles Azarosos es el nombre de un humilde algoritmo trivial (por favor NO confundir con Random Forest)\n",
    "<br>Qué tipo de perturbaciones se realizan en Arboles Azarosos\n",
    "* Se perturba el dataset\n",
    "* No se perturba el algoritmo, es siempre rpart original"
   ]
  },
  {
   "cell_type": "markdown",
   "metadata": {
    "id": "rq2HC28CpXBR"
   },
   "source": [
    "Cada  arbolito de  Arboles Azarosos se entrena sobre un dataset perturbado,  que tiene exactamente la misma cantidad de registros pero solo un subconjunto de los atributos (campos)  del dataset, tomados al azar, de los originales.\n",
    "<br> En esta primera corrida, se construira cada arbol en un dataset utilizando el 50% de los campos"
   ]
  },
  {
   "cell_type": "markdown",
   "metadata": {
    "id": "eSU5vi00CPRS"
   },
   "source": [
    "Esta parte se debe correr con el runtime en lenguaje **R** Ir al menu, Runtime -> Change Runtime Type -> Runtime type -> R"
   ]
  },
  {
   "cell_type": "markdown",
   "metadata": {
    "id": "Zq8dySimCPRT"
   },
   "source": [
    "limpio el ambiente de R"
   ]
  },
  {
   "cell_type": "code",
   "execution_count": null,
   "metadata": {
    "id": "LrdtraBYJrsx"
   },
   "outputs": [],
   "source": [
    "format(Sys.time(), \"%a %b %d %X %Y\")"
   ]
  },
  {
   "cell_type": "code",
   "execution_count": null,
   "metadata": {
    "id": "1iE0U4_WCPRT"
   },
   "outputs": [],
   "source": [
    "# limpio la memoria\n",
    "rm(list=ls(all.names=TRUE)) # remove all objects\n",
    "gc(full=TRUE, verbose=FALSE) # garbage collection"
   ]
  },
  {
   "cell_type": "code",
   "execution_count": null,
   "metadata": {
    "id": "BJDwdD0dCPRU"
   },
   "outputs": [],
   "source": [
    "# cargo las librerias que necesito\n",
    "require(\"data.table\")\n",
    "require(\"rpart\")\n",
    "\n",
    "if(!require(\"R.utils\")) install.packages(\"R.utils\")\n",
    "require(\"R.utils\")"
   ]
  },
  {
   "cell_type": "code",
   "execution_count": null,
   "metadata": {
    "id": "WrwCZi1vJXfP"
   },
   "outputs": [],
   "source": [
    "# particionar agrega una columna llamada fold a un dataset\n",
    "#   que consiste en una particion estratificada segun agrupa\n",
    "# particionar( data=dataset, division=c(70,30),\n",
    "#  agrupa=clase_ternaria, seed=semilla)   crea una particion 70, 30\n",
    "\n",
    "particionar <- function(data, division, agrupa= \"\", campo= \"fold\", start= 1, seed= NA) {\n",
    "  if (!is.na(seed)) set.seed(seed, \"L'Ecuyer-CMRG\")\n",
    "\n",
    "  bloque <- unlist(mapply(\n",
    "    function(x, y) {rep(y, x)},division, seq(from= start, length.out= length(division))))\n",
    "\n",
    "  data[, (campo) := sample(rep(bloque,ceiling(.N / length(bloque))))[1:.N],by= agrupa]\n",
    "}"
   ]
  },
  {
   "cell_type": "code",
   "execution_count": null,
   "metadata": {
    "id": "hL2DOpNFwVtq"
   },
   "outputs": [],
   "source": [
    "# iniciliazo el dataset de realidad, para medir ganancia\n",
    "realidad_inicializar <- function( pfuture, pparam) {\n",
    "\n",
    "  # datos para verificar la ganancia\n",
    "  drealidad <- pfuture[, list(numero_de_cliente, foto_mes, clase_ternaria)]\n",
    "\n",
    "  particionar(drealidad,\n",
    "    division= c(3, 7),\n",
    "    agrupa= \"clase_ternaria\",\n",
    "    seed= PARAM$semilla_kaggle\n",
    "  )\n",
    "\n",
    "  return( drealidad )\n",
    "}"
   ]
  },
  {
   "cell_type": "code",
   "execution_count": null,
   "metadata": {
    "id": "8Pf2jh2sMfq-"
   },
   "outputs": [],
   "source": [
    "# evaluo ganancia en los datos de la realidad\n",
    "\n",
    "realidad_evaluar <- function( prealidad, pprediccion) {\n",
    "\n",
    "  prealidad[ pprediccion,\n",
    "    on= c(\"numero_de_cliente\", \"foto_mes\"),\n",
    "    predicted:= i.Predicted\n",
    "  ]\n",
    "\n",
    "  tbl <- prealidad[, list(\"qty\"=.N), list(fold, predicted, clase_ternaria)]\n",
    "\n",
    "  res <- list()\n",
    "  res$public  <- tbl[fold==1 & predicted==1L, sum(qty*ifelse(clase_ternaria==\"BAJA+2\", 780000, -20000))]/0.3\n",
    "  res$private <- tbl[fold==2 & predicted==1L, sum(qty*ifelse(clase_ternaria==\"BAJA+2\", 780000, -20000))]/0.7\n",
    "  res$total <- tbl[predicted==1L, sum(qty*ifelse(clase_ternaria==\"BAJA+2\", 780000, -20000))]\n",
    "\n",
    "  prealidad[, predicted:=NULL]\n",
    "  return( res )\n",
    "}"
   ]
  },
  {
   "cell_type": "markdown",
   "metadata": {
    "id": "M8-Pyp6CCPRU"
   },
   "source": [
    "Aqui debe cargar SU semilla primigenia"
   ]
  },
  {
   "cell_type": "code",
   "execution_count": null,
   "metadata": {
    "id": "peRH7ySLCPRV"
   },
   "outputs": [],
   "source": [
    "PARAM <- list()\n",
    "PARAM$semilla_primigenia <- 102191\n",
    "\n",
    "\n",
    "# training y future\n",
    "PARAM$train <- c(202102)\n",
    "PARAM$future <- c(202104)\n",
    "\n",
    "# parametros  arbol\n",
    "# entreno cada arbol con solo 50% de las variables variables\n",
    "#  por ahora, es fijo\n",
    "PARAM$feature_fraction <- 0.5\n",
    "\n",
    "PARAM$rpart$cp <- -1\n",
    "PARAM$rpart$minsplit <- 50\n",
    "PARAM$rpart$minbucket <- 20\n",
    "PARAM$rpart$maxdepth <- 6\n",
    "\n",
    "# voy a generar 512 arboles,\n",
    "#  a mas arboles mas tiempo de proceso y MEJOR MODELO,\n",
    "#  pero ganancias marginales\n",
    "PARAM$num_trees_max <- 512\n",
    "\n",
    "PARAM$semilla_kaggle <- 314159"
   ]
  },
  {
   "cell_type": "code",
   "execution_count": null,
   "metadata": {
    "id": "1gZD6ZMvCPRV"
   },
   "outputs": [],
   "source": [
    "# carpeta de trabajo\n",
    "setwd(\"/content/buckets/b1/exp\")\n",
    "experimento <- \"exp4020\"\n",
    "dir.create(experimento, showWarnings=FALSE)\n",
    "setwd( paste0(\"/content/buckets/b1/exp/\", experimento ))"
   ]
  },
  {
   "cell_type": "code",
   "execution_count": null,
   "metadata": {
    "id": "Xi0emX2ECPRV"
   },
   "outputs": [],
   "source": [
    "# lectura del dataset\n",
    "dataset <- fread(\"/content/datasets/competencia_01.csv.gz\")"
   ]
  },
  {
   "cell_type": "code",
   "execution_count": null,
   "metadata": {
    "id": "RA3cSJ6KaGwA"
   },
   "outputs": [],
   "source": [
    "# defino los dataset de entrenamiento y aplicacion\n",
    "dtrain <- dataset[foto_mes %in% PARAM$train]"
   ]
  },
  {
   "cell_type": "code",
   "execution_count": null,
   "metadata": {
    "id": "ajEKqm4hHQR-"
   },
   "outputs": [],
   "source": [
    "# mes donde voy a aplicar el modelo\n",
    "dfuture <- dataset[foto_mes %in% PARAM$future]\n",
    "setorder(dfuture, numero_de_cliente, foto_mes)"
   ]
  },
  {
   "cell_type": "code",
   "execution_count": null,
   "metadata": {
    "id": "T6j4xR0NxOc4"
   },
   "outputs": [],
   "source": [
    "# inicilizo el dataset  drealidad\n",
    "drealidad <- realidad_inicializar( dfuture, PARAM)"
   ]
  },
  {
   "cell_type": "code",
   "execution_count": null,
   "metadata": {
    "id": "MHDj9ifaxWT6"
   },
   "outputs": [],
   "source": [
    "# quito clase ternaria de donde voy a aplicar el modelo\n",
    "dfuture[, clase_ternaria:= NULL]"
   ]
  },
  {
   "cell_type": "code",
   "execution_count": null,
   "metadata": {
    "id": "EByLkVMwaC8K"
   },
   "outputs": [],
   "source": [
    "# Establezco cuales son los campos que puedo usar para la prediccion\n",
    "# el copy() es por la Lazy Evaluation\n",
    "campos_buenos <- copy(setdiff(colnames(dtrain), c(\"clase_ternaria\")))"
   ]
  },
  {
   "cell_type": "code",
   "execution_count": null,
   "metadata": {
    "id": "rHMrHwwpaB8D"
   },
   "outputs": [],
   "source": [
    "# que tamanos de ensemble grabo a disco\n",
    "grabar <- c(1, 2, 4, 8, 16, 32, 64, 128, 256, 384, 512)"
   ]
  },
  {
   "cell_type": "code",
   "execution_count": null,
   "metadata": {
    "id": "j-xp2HQDhFmY"
   },
   "outputs": [],
   "source": [
    "tb_prediccion <- dfuture[, list(numero_de_cliente, foto_mes)]\n",
    "# aqui se va acumulando la probabilidad del ensemble\n",
    "tb_prediccion[, prob_acumulada := 0]\n",
    "\n",
    "set.seed(PARAM$semilla_primigenia,\"L'Ecuyer-CMRG\" ) # Establezco la semilla aleatoria\n",
    "\n",
    "for (arbolito in seq(PARAM$num_trees_max) ) {\n",
    "\n",
    "  qty_campos_a_utilizar <- as.integer(length(campos_buenos)\n",
    "    * PARAM$feature_fraction)\n",
    "\n",
    "  # elijo los campos al azar\n",
    "  campos_random <- sample(campos_buenos, qty_campos_a_utilizar)\n",
    "\n",
    "  # paso de un vector a un string con los elementos\n",
    "  # separados por un signo de \"+\"\n",
    "  # este hace falta para la formula\n",
    "  campos_random <- paste(campos_random, collapse= \" + \")\n",
    "\n",
    "  # armo la formula para rpart\n",
    "  formulita <- paste0(\"clase_ternaria ~ \", campos_random)\n",
    "\n",
    "  # genero el arbol de decision\n",
    "  modelo <- rpart(formulita,\n",
    "    data= dtrain,\n",
    "    xval= 0,\n",
    "    control= PARAM$rpart\n",
    "  )\n",
    "\n",
    "  # aplico el modelo a los datos que no tienen clase\n",
    "  prediccion <- predict(modelo, dfuture, type= \"prob\")\n",
    "\n",
    "  tb_prediccion[, prob_acumulada := prob_acumulada + prediccion[, \"BAJA+2\"]]\n",
    "\n",
    "  if( arbolito %in% grabar ) {\n",
    "    umbral_corte <-  arbolito * (1/40)\n",
    "    tb_prediccion[, Predicted := as.numeric(prob_acumulada > umbral_corte)]\n",
    "    res <- realidad_evaluar( drealidad, tb_prediccion)\n",
    "\n",
    "    cat(\"'\\n\",\n",
    "      \"arbolitos=\", arbolito,\n",
    "      \" TOTAL=\", res$total,\n",
    "      \" Public=\", res$public,\n",
    "      \" Private=\", res$private,\n",
    "      \"\\n\",\n",
    "      sep= \"\"\n",
    "    )\n",
    "  } else {\n",
    "    cat( arbolito, \" \")\n",
    "  }\n",
    "\n",
    "  flush.console()\n",
    "}\n"
   ]
  },
  {
   "cell_type": "markdown",
   "metadata": {
    "id": "BNpd8JiKzr20"
   },
   "source": [
    "A medida que corre el loop anterior, cargar para cantidad de arbolitos reportados los resultados de la ganancia TOTAL en la hoja  **C4-Arboles Azarosos** de la planilla colaborativa\n",
    "\n"
   ]
  },
  {
   "cell_type": "markdown",
   "metadata": {
    "id": "wOWCbSevbskc"
   },
   "source": [
    "Usted NO reportará la ganancia del Public ni tampoco la del Private, por ahora es simplemente para que perciba la variabilidad existente y comience a tener plena conciencia de los fenómenos que observó en la asignatura  Data Mining del cuatrimestre anterior."
   ]
  },
  {
   "cell_type": "code",
   "execution_count": null,
   "metadata": {
    "id": "lgmvRHcfJpls"
   },
   "outputs": [],
   "source": [
    "format(Sys.time(), \"%a %b %d %X %Y\")"
   ]
  },
  {
   "cell_type": "markdown",
   "metadata": {
    "id": "UMr6Z1enOyd3"
   },
   "source": [
    "\n",
    "\n",
    "---\n",
    "\n"
   ]
  }
 ],
 "metadata": {
  "colab": {
   "provenance": []
  },
  "kernelspec": {
   "display_name": "R",
   "language": "R",
   "name": "ir"
  },
  "language_info": {
   "codemirror_mode": "r",
   "file_extension": ".r",
   "mimetype": "text/x-r-source",
   "name": "R",
   "pygments_lexer": "r",
   "version": "4.5.1"
  }
 },
 "nbformat": 4,
 "nbformat_minor": 4
}
